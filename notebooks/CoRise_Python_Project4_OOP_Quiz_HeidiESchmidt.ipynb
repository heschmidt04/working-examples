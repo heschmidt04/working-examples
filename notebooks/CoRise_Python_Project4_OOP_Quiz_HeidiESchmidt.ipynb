{
  "nbformat": 4,
  "nbformat_minor": 0,
  "metadata": {
    "colab": {
      "provenance": []
    },
    "kernelspec": {
      "name": "python3",
      "display_name": "Python 3"
    },
    "language_info": {
      "name": "python"
    }
  },
  "cells": [
    {
      "cell_type": "markdown",
      "source": [
        "# Project 4: OOP Quiz\n",
        "\n",
        "⚠️   **Duplicate this project before you start working on it, using `File > Save a copy in drive`.**\n",
        "\n",
        "In this final project, you'll use object-oriented programming to design a quiz with questions of different types. "
      ],
      "metadata": {
        "id": "6OXVC3_tzrvE"
      }
    },
    {
      "cell_type": "markdown",
      "source": [
        "## Draft your quiz\n",
        "\n",
        "We want to see a different quiz from every student, since all of you come with expertise in different topics. \n",
        "\n",
        "Your quiz should be a mix of \n",
        "* free-text answers and \n",
        "* multiple choice answers \n",
        "* (and even other types of answers that you come up with!).\n",
        "\n",
        "Here's an example quiz that I might come up with, since I'm obsessed with caterpillars:\n",
        "\n",
        "* Question 1: What plant do Swallowtail caterpillars eat?\n",
        "  * 1. Milkweed\n",
        "  * 2. Dill\n",
        "  * 3. Thistle\n",
        "  * Answer: 2 (Dill)\n",
        "* Question 2: What plant do Monarch caterpillars eat?\n",
        "  * Free text: _______________\n",
        "  * Answer: Milkweed\n",
        "\n",
        "### ✏︎ For you to do\n",
        "\n",
        "Come up with your own quiz. \n",
        "\n",
        "It should have at least 6 questions and be a mix of answer types (free text/multiple choice). \n",
        "\n",
        "Write it down below."
      ],
      "metadata": {
        "id": "fp8r01-p4DG6"
      }
    },
    {
      "cell_type": "markdown",
      "source": [
        "* Question 1: What is Japanese Manga?\n",
        "  * 1. \"a style of Japanese comic books and graphic novels, typically aimed at adults as well as children.\"\n",
        "  * 2. \"a style of Japanese film and television animation, typically aimed at adults as well as children.\n",
        "  * Answer: 1 \n",
        "\n",
        "* Question 2: What is Japanese Anime?\n",
        "  * 1. \"a style of Japanese comic books and graphic novels, typically aimed at adults as well as children.\"\n",
        "  * 2. \"a style of Japanese film and television animation, typically aimed at adults as well as children.\n",
        "  * Answer: 2\n",
        "\n",
        "* Question 3: \n",
        "How do you read Japanese manga? \n",
        "  * 1. \"back to front\"\n",
        "  * 2. \"front to back\"\n",
        "  * Answer: 1\n",
        "\n",
        "* Question 4: Where can you watch anime online? (free text) \n",
        "  * [\"Netflix\",\"Crunchyroll\",\"Funimation\",\"Movie Theatre\",\"YouTube\", \"Bit Torrent\",\"Library\",\"Other\"]\n",
        "  * Answer: Netflix \n",
        "  You could add in any other question using the other options :D \n",
        "\n",
        "* Question 5: What is the meaning of one of these Japanese words? \n",
        "  * Answer: Cute for Kawaii  \n",
        "\n",
        "* Other words you could ask folks about :D \n",
        "  * \"Kawaii (かわいい)\": \"Definition: Cute, Adorable.\"\n",
        "  * \"Sugoi (すごい)\": \"Definition: Amazing, great. \"\n",
        "  * \"Senpai (先輩)\": \"Definition: Someone who is your senior, most commonly at school or in the workplace.\"\n",
        "  * \"Baka (ばか)\": \"Definition: Idiot, stupid.\"\n",
        "  * \"Oniisan (お兄さん)\",\"Definition: Older brother\"\n",
        "  * \"Daijōbu (大丈夫)\":\"Definition: Okay, good\"\n",
        "  * \"Imōto (妹)\": \"Definition: Younger sister\"\n",
        "  * \"Tomodachi (友達)\":\"Definition: Friend\",\n",
        "  * \"Ureshiii (嬉しい)\":\"Definition: Happy, glad\",\n",
        "  * \"Otaku (おたく)\":\"Definition: Someone who is obsessed with something, usually referring to anime/manga\"\n",
        "  \n",
        "* Question 6: Of these Japanese Anime, which one in this list DOES NOT have Animal characters in it? \n",
        "  * Answer: \"One Punch Man\" \n",
        "  * \"Totoro\": [\"yes\"],\n",
        "  * \"Porco Rosso\": [\"yes\"],\n",
        "  * \"Aggretsuko\": [\"yes\"],\n",
        "  * \"Dragonball Z\": [\"yes\"],\n",
        "  * \"Cowboy Bebop\": [\"yes\"],\n",
        "  * \"Sonic the Hedgehog\":[\"yes\"]\n",
        "  * \"One-Punch Man\":[\"no\"],\n",
        "  * \"Avatar the Last Airbender\":[\"yes\"]\n",
        "  * \"Lu Over the Wall\": [\"yes\"]\n"
      ],
      "metadata": {
        "id": "ON305Y4a5rK2"
      }
    },
    {
      "cell_type": "markdown",
      "source": [
        "## What objects and classes do we need?\n",
        "\n",
        "The most obvious object that we need is `Quiz`, so that we can potentially have multiple quizzes, each with their own title and questions.\n",
        "\n",
        "But let's break it down more than that:\n",
        "* A `Quiz` is made up of multiple questions. Each of those can be a `Question` object.\n",
        "* A `Question` object has the actual prompt (the question that ends in a question mark) as well as the answer(s). Let's make each `Answer` an object as well.\n",
        "* Since the goal is to support multiple answer types, we could use inheritance and more classes to distinguish between `FreeTextAnswer` objects and `MultipleChoiceAnswer` objects.\n",
        "\n",
        "So there are 5 classes to implement: `Quiz`, `Question`, `Answer`, `FreeTextAnswer`, and `MultipleChoiceAnswer`.\n",
        "\n",
        "You'll start with the smallest part of the system, the answers, and work your way up to the quiz, since that makes testing much easier."
      ],
      "metadata": {
        "id": "netRf4nM5v33"
      }
    },
    {
      "cell_type": "markdown",
      "source": [
        "## The `Answer` class\n",
        "\n",
        "We are providing this class for you. It is a super simple class right now, with only a single method `is_correct` that always returns false.\n",
        "\n",
        "The specific answer types will inherit from this class. You may find yourself wanting to move shared functionality from the answer types into this class, either when working through the core project or the extensions. But you also may just leave it like this."
      ],
      "metadata": {
        "id": "Ry7bOEOP7pKm"
      }
    },
    {
      "cell_type": "code",
      "source": [
        "class Answer:\n",
        "  def is_correct(self):\n",
        "    return False"
      ],
      "metadata": {
        "id": "WCX1C7x7vnpq"
      },
      "execution_count": null,
      "outputs": []
    },
    {
      "cell_type": "code",
      "source": [],
      "metadata": {
        "id": "uPplWB7Ljcn3"
      },
      "execution_count": null,
      "outputs": []
    },
    {
      "cell_type": "markdown",
      "source": [
        "## The `FreeTextAnswer` class\n",
        "\n",
        "You'll use this class for the questions where you want users to write the answers themselves in a text box.\n",
        "\n",
        "The class initializer should accept two parameters, one for the correct answer and the other indicating whether the answer is case sensitive (i.e., if capitalization matters).\n",
        "\n",
        "Then `is_correct` needs to return either true or false based on whether the user's answer matches the correct answer (ignoring capitalization if that was requested).\n",
        "\n",
        "The `display` method should print out text that tells people what to put in the text box and whether capitalization matters.\n",
        "\n",
        "All of these methods are also demonstrated in the doctests, so read through the doctests first before implementing.\n",
        "\n",
        "### ✏︎ For you to do\n",
        "\n",
        "* Implement the three methods per the description above and doctests below, and run the doctests to ensure they're all passing.\n"
      ],
      "metadata": {
        "id": "IadxxwVX8gE6"
      }
    },
    {
      "cell_type": "code",
      "execution_count": null,
      "metadata": {
        "id": "tLeqkBPDouhy",
        "colab": {
          "base_uri": "https://localhost:8080/"
        },
        "outputId": "900af68c-99e8-4a34-9541-9c741ca31d71"
      },
      "outputs": [
        {
          "output_type": "stream",
          "name": "stdout",
          "text": [
            "Finding tests in FreeTextAnswer\n",
            "Trying:\n",
            "    ans1 = FreeTextAnswer(\"Milkweed\", False)\n",
            "Expecting nothing\n",
            "ok\n",
            "Trying:\n",
            "    ans1.is_correct(\"milkweed\")\n",
            "Expecting:\n",
            "    True\n",
            "ok\n",
            "Trying:\n",
            "    ans1.is_correct(\"thistle\")\n",
            "Expecting:\n",
            "    False\n",
            "ok\n",
            "Trying:\n",
            "    ans1.display()\n",
            "Expecting:\n",
            "    Type your answer in (don't worry about capitalization):\n",
            "ok\n",
            "Trying:\n",
            "    ans2 = FreeTextAnswer(\"Armeria Maritima\", True)\n",
            "Expecting nothing\n",
            "ok\n",
            "Trying:\n",
            "    ans2.is_correct(\"armeria maritima\")\n",
            "Expecting:\n",
            "    False\n",
            "ok\n",
            "Trying:\n",
            "    ans2.is_correct(\"Armeria Maritima\")\n",
            "Expecting:\n",
            "    True\n",
            "ok\n",
            "Trying:\n",
            "    ans2.display()\n",
            "Expecting:\n",
            "    Type your answer in (capitalization matters!):\n",
            "ok\n"
          ]
        }
      ],
      "source": [
        "class FreeTextAnswer(Answer):\n",
        "  \"\"\"\n",
        "  >>> ans1 = FreeTextAnswer(\"Milkweed\", False)\n",
        "  >>> ans1.is_correct(\"milkweed\")\n",
        "  True\n",
        "  >>> ans1.is_correct(\"thistle\")\n",
        "  False\n",
        "  >>> ans1.display()\n",
        "  Type your answer in (don't worry about capitalization):\n",
        "  >>> ans2 = FreeTextAnswer(\"Armeria Maritima\", True)\n",
        "  >>> ans2.is_correct(\"armeria maritima\")\n",
        "  False\n",
        "  >>> ans2.is_correct(\"Armeria Maritima\")\n",
        "  True\n",
        "  >>> ans2.display()\n",
        "  Type your answer in (capitalization matters!):\n",
        "  \"\"\"\n",
        "  def __init__(self, correct_answer, case_sensitive):\n",
        "    # YOUR CODE HERE\n",
        "    self.correct_answer = correct_answer\n",
        "    self.case_sensitive = case_sensitive\n",
        "\n",
        "  def is_correct(self, user_answer):\n",
        "    # YOUR CODE HERE\n",
        "    if self.case_sensitive: # if truthiness is True - else it is false \n",
        "      if self.correct_answer == user_answer:\n",
        "        return True\n",
        "      return False\n",
        "    elif self.correct_answer.lower() == user_answer.lower():\n",
        "      return True \n",
        "    return False \n",
        "\n",
        "  def display(self):\n",
        "    # YOUR CODE HERE\n",
        "    if self.case_sensitive:\n",
        "      print(\"Type your answer in (capitalization matters!):\")\n",
        "    else:\n",
        "      print(\"Type your answer in (don't worry about capitalization):\")\n",
        "\n",
        "# Run doctests\n",
        "import doctest\n",
        "doctest.run_docstring_examples(FreeTextAnswer, globals(), verbose=True,\n",
        "  name=\"FreeTextAnswer\")"
      ]
    },
    {
      "cell_type": "code",
      "source": [],
      "metadata": {
        "id": "K2i7AtBG8ql6"
      },
      "execution_count": null,
      "outputs": []
    },
    {
      "cell_type": "markdown",
      "source": [
        "## The `MultipleChoice` class\n",
        "\n",
        "You'll use this class for the questions where you want users to select one of a few possible options.\n",
        "\n",
        "The class initializer should accept two parameters, one for the correct answer and one with a list of answer choices.\n",
        "\n",
        "This time, the `display` method does a bit more work: \n",
        "* it needs to print out each of the choices next to a number \n",
        "* and tell users to enter the _number_ of the correct choice.\n",
        "\n",
        "Then `is_correct` returns true or false based on whether \n",
        "* the number entered by the user matches up with the correct answer's list index. \n",
        "\n",
        "Note that the user numbers should start with 1 but list indices start with 0, so watch out for off-by-one errors. 👁\n",
        "\n",
        "\n",
        "### ✏︎ For you to do\n",
        "\n",
        "Implement the three methods per \n",
        "* the description above \n",
        "* and doctests below, \n",
        "* and run the doctests to ensure they're all passing. \n",
        "\n",
        "This time, you'll also need to write the function signatures.\n"
      ],
      "metadata": {
        "id": "GkEPTv01_L4a"
      }
    },
    {
      "cell_type": "code",
      "source": [
        "class MultipleChoiceAnswer(Answer):\n",
        "  \"\"\"\n",
        "  >>> ans = MultipleChoiceAnswer(\"Dill\", [\"Milkweed\", \"Dill\", \"Thistle\"])\n",
        "  >>> ans.is_correct(1)\n",
        "  False\n",
        "  >>> ans.is_correct(2)\n",
        "  True\n",
        "  >>> ans.is_correct(3)\n",
        "  False\n",
        "  >>> ans.is_correct('2') # Handles strings\n",
        "  True\n",
        "  >>> ans.display()\n",
        "  Type the number corresponding to the correct answer.\n",
        "  1. Milkweed\n",
        "  2. Dill\n",
        "  3. Thistle\n",
        "  \"\"\"\n",
        "  # YOUR CODE HERE\n",
        "  def __init__(self, correct_answer, answer_choice_list):\n",
        "    self.correct_answer = correct_answer\n",
        "    self.answer_choice_list = answer_choice_list\n",
        "\n",
        "  def is_correct(self, answer_choice):\n",
        "    answer = self.answer_choice_list[int(answer_choice) -1] # to not start at 1, but the beginning of the list \n",
        "    return answer == self.correct_answer\n",
        "\n",
        "  def display(self):\n",
        "    print(\"Type the number corresponding to the correct answer.\")\n",
        "    for idx in range(len(self.answer_choice_list)):\n",
        "      print(f\"{idx + 1}. {self.answer_choice_list[idx]}\")\n",
        "\n",
        "\n",
        "# Run doctests\n",
        "import doctest\n",
        "doctest.run_docstring_examples(MultipleChoiceAnswer, globals(), verbose=True,\n",
        "  name=\"MultipleChoiceAnswer\")"
      ],
      "metadata": {
        "id": "m5wJyaaPvjSh",
        "colab": {
          "base_uri": "https://localhost:8080/"
        },
        "outputId": "f994f568-4269-42a1-fb17-0d793b0141e6"
      },
      "execution_count": null,
      "outputs": [
        {
          "output_type": "stream",
          "name": "stdout",
          "text": [
            "Finding tests in MultipleChoiceAnswer\n",
            "Trying:\n",
            "    ans = MultipleChoiceAnswer(\"Dill\", [\"Milkweed\", \"Dill\", \"Thistle\"])\n",
            "Expecting nothing\n",
            "ok\n",
            "Trying:\n",
            "    ans.is_correct(1)\n",
            "Expecting:\n",
            "    False\n",
            "ok\n",
            "Trying:\n",
            "    ans.is_correct(2)\n",
            "Expecting:\n",
            "    True\n",
            "ok\n",
            "Trying:\n",
            "    ans.is_correct(3)\n",
            "Expecting:\n",
            "    False\n",
            "ok\n",
            "Trying:\n",
            "    ans.is_correct('2') # Handles strings\n",
            "Expecting:\n",
            "    True\n",
            "ok\n",
            "Trying:\n",
            "    ans.display()\n",
            "Expecting:\n",
            "    Type the number corresponding to the correct answer.\n",
            "    1. Milkweed\n",
            "    2. Dill\n",
            "    3. Thistle\n",
            "ok\n"
          ]
        }
      ]
    },
    {
      "cell_type": "code",
      "source": [],
      "metadata": {
        "id": "BsdHfWuC8rwH"
      },
      "execution_count": null,
      "outputs": []
    },
    {
      "cell_type": "markdown",
      "source": [
        "### ✏︎ For you to do\n",
        "\n",
        "Create a `MultipleChoiceAnswer` based on one of your questions in the quiz above, and call `display()` to make sure it displays as you expect."
      ],
      "metadata": {
        "id": "l7VKvHQjAkCL"
      }
    },
    {
      "cell_type": "code",
      "source": [
        "# YOUR CODE HERE\n",
        "\n",
        "q1 = \"What is Japanese Manga?\"\n",
        "answer_one = MultipleChoiceAnswer(\"a style of Japanese comic books and graphic novels, typically aimed at adults as well as children.\",\n",
        "                                  [\"a style of Japanese film and television animation, typically aimed at adults as well as children.\", \"a style of Japanese comic books and graphic novels, typically aimed at adults as well as children.\"])\n",
        "answer_one.display()\n",
        "\n",
        "q2 = \"What is Japanese Anime?\"\n",
        "answer_two = MultipleChoiceAnswer(\"a style of Japanese film and television animation, typically aimed at adults as well as children.\",\n",
        "                                  [\"a style of Japanese film and television animation, typically aimed at adults as well as children.\", \"a style of Japanese comic books and graphic novels, typically aimed at adults as well as children.\"])\n",
        "answer_two.display()\n",
        "\n",
        "q3 = \"How do you read Japanese Manga?\"\n",
        "answer_three = MultipleChoiceAnswer(\"back to front\",[\"back to front\",\"front to back\"])\n",
        "answer_three.display()\n",
        "\n",
        "q4 = \"Where is one place you can watch Japanese Anime?\"\n",
        "answer_four = FreeTextAnswer(\"Netflix\", False) # realizing that this free text answer needs something simpler\n",
        "answer_four.display()\n",
        "\n",
        "q5 = \"What does the Japanese word Kawaii, mean?\"\n",
        "# I don't think this will do what I think it should so I should ask the values to each or pick one or two \n",
        "answer_five = FreeTextAnswer(\"cute\",False) # [Kawaii (かわいい): Definition: Cute, Adorable.\"]\n",
        "answer_five.display()\n",
        "\n",
        "q6 = \"Which one of the these Japanese Anime DO NOT have any animal characters?\"\n",
        "answer_six = MultipleChoiceAnswer(\"One-Punch Man\",[\"Totoro\",\"Porco Rosso\",\"Aggretsuko\",\"Dragonball Z\",\"Cowboy Bebop\",\"Sonic the Hedgehog\",\"One-Punch Man\",\"Avatar the Last Airbender\"])\n",
        "answer_six.display()"
      ],
      "metadata": {
        "id": "aUcJskdEAy7H",
        "colab": {
          "base_uri": "https://localhost:8080/"
        },
        "outputId": "3df2bdd1-50e3-4e79-f598-98992eb2e181"
      },
      "execution_count": null,
      "outputs": [
        {
          "output_type": "stream",
          "name": "stdout",
          "text": [
            "Type the number corresponding to the correct answer.\n",
            "1. a style of Japanese film and television animation, typically aimed at adults as well as children.\n",
            "2. a style of Japanese comic books and graphic novels, typically aimed at adults as well as children.\n",
            "Type the number corresponding to the correct answer.\n",
            "1. a style of Japanese film and television animation, typically aimed at adults as well as children.\n",
            "2. a style of Japanese comic books and graphic novels, typically aimed at adults as well as children.\n",
            "Type the number corresponding to the correct answer.\n",
            "1. back to front\n",
            "2. front to back\n",
            "Type your answer in (don't worry about capitalization):\n",
            "Type your answer in (don't worry about capitalization):\n",
            "Type the number corresponding to the correct answer.\n",
            "1. Totoro\n",
            "2. Porco Rosso\n",
            "3. Aggretsuko\n",
            "4. Dragonball Z\n",
            "5. Cowboy Bebop\n",
            "6. Sonic the Hedgehog\n",
            "7. One-Punch Man\n",
            "8. Avatar the Last Airbender\n"
          ]
        }
      ]
    },
    {
      "cell_type": "markdown",
      "source": [
        "## The `Question` class\n",
        "\n",
        "The initializer for this class should accept two parameters:\n",
        "* the first is a string prompt, the question itself\n",
        "* the second is an `Answer` object, any of the classes defined above\n",
        "\n",
        "The `display` method for this class is a bit tricky, since it needs to actually get the answer from the user (via the `input()` function), check if the user answer is correct, and store whether they got it correct in an `answer_status` instance variable. That instance variable will be used by the `Quiz` class in the next step.\n",
        "\n",
        "It's hard to write doctests for functions that use the `input()` function, since the tests will actually pause and wait for input, so we've instead written comments describing the process.\n",
        "\n",
        "You can also watch the animated GIF below to see a demo of `Question.display()` in action:\n",
        "\n",
        "![Animated GIF of answering a question](https://corise.com/static/course/introduction-to-python/assets/ckyjsdz5x00e914bbdiekfvor/question_display.gif)\n",
        "\n",
        "### ✏︎ For you to do\n",
        "\n",
        "Implement the `__init__` and `__display__` methods below, per the description above and doctests and comments below."
      ],
      "metadata": {
        "id": "wzYdtfqIA0Da"
      }
    },
    {
      "cell_type": "code",
      "source": [
        "\n",
        "class Question:\n",
        "  \"\"\"\n",
        "  >>> q1 = Question(\"What plant do Swallowtail caterpillars eat?\",\n",
        "  ...              MultipleChoiceAnswer(\"Dill\", [\"Milkweed\", \"Dill\", \"Thistle\"]))\n",
        "  >>> q1.prompt\n",
        "  'What plant do Swallowtail caterpillars eat?'\n",
        "  >>> q1.answer.correct_answer\n",
        "  'Dill'\n",
        "  >>> q1.answer_status\n",
        "  'unanswered'\n",
        "  >>> q2 = Question(\"What plant do Monarch caterpillars eat?\",\n",
        "  ...              FreeTextAnswer(\"Milkweed\", False))\n",
        "  >>> q2.prompt\n",
        "  'What plant do Monarch caterpillars eat?'\n",
        "  >>> q2.answer.correct_answer\n",
        "  'Milkweed'\n",
        "  \"\"\"\n",
        "\n",
        "  def __init__(self, prompt, answer):\n",
        "    # YOUR CODE HERE\n",
        "    # Initialize all instance variables\n",
        "    self.prompt = prompt\n",
        "    self.answer = answer \n",
        "    self.answer_status = \"unanswered\"\n",
        "    \n",
        "  def display(self):\n",
        "    # YOUR CODE HERE\n",
        "    # Print the question prompt\n",
        "    # Display the answer\n",
        "    # Ask the user for input and store their answer\n",
        "    # If answer is correct,\n",
        "    #  display a message congratulating them\n",
        "    #  and mark answer_status instance variable as 'correct'\n",
        "    # If answer is not correct,\n",
        "    #  display a message showing them correct answer\n",
        "    #  and mark answer_status instance variable as 'incorrect'\n",
        "    print(self.prompt)\n",
        "    self.answer.display()\n",
        "    user_answer = input()\n",
        "    if self.answer.is_correct(user_answer):\n",
        "      print(f\"Congratulations! that answer was correct.\")\n",
        "      self.answer_status = \"correct\"\n",
        "    else:\n",
        "      print(f\"You were close. The answer was {self.answer.correct_answer}\")\n",
        "      self.answer_status = \"incorrect\"\n",
        "\n",
        "\n",
        "# Run doctests\n",
        "import doctest\n",
        "doctest.run_docstring_examples(Question, globals(), verbose=True,\n",
        "  name=\"Question\")"
      ],
      "metadata": {
        "id": "wNR88d51uY9O",
        "colab": {
          "base_uri": "https://localhost:8080/"
        },
        "outputId": "c2206c04-aa94-43b3-b0b3-52b73ef6a437"
      },
      "execution_count": null,
      "outputs": [
        {
          "output_type": "stream",
          "name": "stdout",
          "text": [
            "Finding tests in Question\n",
            "Trying:\n",
            "    q1 = Question(\"What plant do Swallowtail caterpillars eat?\",\n",
            "                 MultipleChoiceAnswer(\"Dill\", [\"Milkweed\", \"Dill\", \"Thistle\"]))\n",
            "Expecting nothing\n",
            "ok\n",
            "Trying:\n",
            "    q1.prompt\n",
            "Expecting:\n",
            "    'What plant do Swallowtail caterpillars eat?'\n",
            "ok\n",
            "Trying:\n",
            "    q1.answer.correct_answer\n",
            "Expecting:\n",
            "    'Dill'\n",
            "ok\n",
            "Trying:\n",
            "    q1.answer_status\n",
            "Expecting:\n",
            "    'unanswered'\n",
            "ok\n",
            "Trying:\n",
            "    q2 = Question(\"What plant do Monarch caterpillars eat?\",\n",
            "                 FreeTextAnswer(\"Milkweed\", False))\n",
            "Expecting nothing\n",
            "ok\n",
            "Trying:\n",
            "    q2.prompt\n",
            "Expecting:\n",
            "    'What plant do Monarch caterpillars eat?'\n",
            "ok\n",
            "Trying:\n",
            "    q2.answer.correct_answer\n",
            "Expecting:\n",
            "    'Milkweed'\n",
            "ok\n"
          ]
        }
      ]
    },
    {
      "cell_type": "markdown",
      "source": [
        "### ✏︎ For you to do\n",
        "\n",
        "Create a `Question` object representing one of the questions from your quiz, and call `display()`. Test it with both correct and incorrect answers, and make sure the resulting message makes sense. \n",
        "\n",
        "You may want to test both a free text answer and multiple choice answer, for completeness."
      ],
      "metadata": {
        "id": "zmwEnJJSEqjx"
      }
    },
    {
      "cell_type": "code",
      "source": [
        "# YOUR CODE HERE\n",
        "\n",
        "# Multiple Choice testing \n",
        "question_one = Question(q1, answer_one)\n",
        "question_one.display()\n",
        "\n",
        "# Free Text testing\n",
        "question_four = Question(q4, answer_four)\n",
        "question_four.display()"
      ],
      "metadata": {
        "id": "G0h_SlHir9vs",
        "colab": {
          "base_uri": "https://localhost:8080/"
        },
        "outputId": "b1fb0d33-bc97-4378-a356-706e14ac1ca0"
      },
      "execution_count": null,
      "outputs": [
        {
          "output_type": "stream",
          "name": "stdout",
          "text": [
            "Where is one place you can watch Japanese Anime?\n",
            "Type your answer in (don't worry about capitalization):\n",
            "Crunchyroll\n",
            "You were close. The answer was Netflix\n"
          ]
        }
      ]
    },
    {
      "cell_type": "markdown",
      "source": [
        "## The `Quiz` class\n",
        "\n",
        "It's the grand finalé! You've got all the components you need for questions and answer checking, now you just need to sequence a series of questions into a quiz. That's the job of the `Quiz` class.\n",
        "\n",
        "The `Quiz` initializer should take two parameters, the name of the quiz and a list of `Question` objects. There is also a `add_question` method to add a `Question` to that list at a later stage, so programmers using this class have different options for how to use it.\n",
        "\n",
        "This class also has a `display` method, which displays the name of the quiz and then displays each question in order. It keeps track of the total number of questions answered correctly so that it can display that total at the end.\n",
        "\n",
        "Once again, since we can't use doctests to verify how you've implemented this method, we've written comments to guide your implementation. Feel free to diverge from them if you have a better way, however.\n",
        "\n",
        "Here's an animated GIF showing how my quiz `display` method worked:\n",
        "\n",
        "![Animated GIF of displaying a quiz](https://corise.com/static/course/introduction-to-python/assets/ckyjstiz400en149r7if6bdt3/quiz_display.gif)\n",
        "\n",
        "### ✏︎ For you to do\n",
        "\n",
        "Implement `__init__`, `add_question`, and `display` per the description above and doctests/comments below.\n"
      ],
      "metadata": {
        "id": "JTLXG5UbFRyR"
      }
    },
    {
      "cell_type": "code",
      "source": [
        "class Quiz:\n",
        "  \"\"\"\n",
        "  >>> quiz = Quiz(\"Butterflies\", [])\n",
        "  >>> quiz.name\n",
        "  'Butterflies'\n",
        "  >>> quiz.questions\n",
        "  []\n",
        "  >>> q1 = Question(\"What plant do Swallowtail caterpillars eat?\",\n",
        "  ...              MultipleChoiceAnswer([\"Thistle\", \"Milkweed\", \"Dill\"], \"Dill\"))\n",
        "  >>> q2 = Question(\"What plant do Monarch caterpillars eat?\",\n",
        "  ...              FreeTextAnswer(\"Milkweed\", False))\n",
        "  >>> quiz.add_question(q1)\n",
        "  >>> quiz.add_question(q2)\n",
        "  >>> quiz.questions[0].prompt\n",
        "  'What plant do Swallowtail caterpillars eat?'\n",
        "  >>> quiz.questions[1].prompt\n",
        "  'What plant do Monarch caterpillars eat?'\n",
        "  \"\"\"\n",
        "  def __init__(self, name, questions):\n",
        "    # YOUR CODE HERE\n",
        "    self.name = name\n",
        "    self.questions = questions\n",
        "  \n",
        "  def add_question(self, question):\n",
        "    # YOUR CODE HERE\n",
        "    self.questions.append(question)\n",
        "\n",
        "  def display(self):\n",
        "    # Display the quiz name\n",
        "    # Initialize the correct counter to 0\n",
        "    # Iterate through the questions\n",
        "    #  Display each question\n",
        "    #  Increment the correct counter according to the answer status\n",
        "    # Print the ratio of correct/total\n",
        "    print(self.name)\n",
        "    correct_counter = 0 \n",
        "    for question in self.questions:\n",
        "      question.display()\n",
        "      if question.answer_status == \"correct\":\n",
        "        correct_counter += 1\n",
        "    print(f\"The ratio of correct questions out of the total is {correct_counter} / {len(self.questions)}\")  \n",
        "\n",
        "# Run doctests\n",
        "import doctest\n",
        "doctest.run_docstring_examples(Quiz, globals(), verbose=True,\n",
        "  name=\"Quiz\")"
      ],
      "metadata": {
        "id": "0mibsoIYrlOs",
        "colab": {
          "base_uri": "https://localhost:8080/"
        },
        "outputId": "9d2390a3-42f3-4a40-ebaf-ddb67b0b1a6c"
      },
      "execution_count": null,
      "outputs": [
        {
          "output_type": "stream",
          "name": "stdout",
          "text": [
            "Finding tests in Quiz\n",
            "Trying:\n",
            "    quiz = Quiz(\"Butterflies\", [])\n",
            "Expecting nothing\n",
            "ok\n",
            "Trying:\n",
            "    quiz.name\n",
            "Expecting:\n",
            "    'Butterflies'\n",
            "ok\n",
            "Trying:\n",
            "    quiz.questions\n",
            "Expecting:\n",
            "    []\n",
            "ok\n",
            "Trying:\n",
            "    q1 = Question(\"What plant do Swallowtail caterpillars eat?\",\n",
            "                 MultipleChoiceAnswer([\"Thistle\", \"Milkweed\", \"Dill\"], \"Dill\"))\n",
            "Expecting nothing\n",
            "ok\n",
            "Trying:\n",
            "    q2 = Question(\"What plant do Monarch caterpillars eat?\",\n",
            "                 FreeTextAnswer(\"Milkweed\", False))\n",
            "Expecting nothing\n",
            "ok\n",
            "Trying:\n",
            "    quiz.add_question(q1)\n",
            "Expecting nothing\n",
            "ok\n",
            "Trying:\n",
            "    quiz.add_question(q2)\n",
            "Expecting nothing\n",
            "ok\n",
            "Trying:\n",
            "    quiz.questions[0].prompt\n",
            "Expecting:\n",
            "    'What plant do Swallowtail caterpillars eat?'\n",
            "ok\n",
            "Trying:\n",
            "    quiz.questions[1].prompt\n",
            "Expecting:\n",
            "    'What plant do Monarch caterpillars eat?'\n",
            "ok\n"
          ]
        }
      ]
    },
    {
      "cell_type": "code",
      "source": [],
      "metadata": {
        "id": "bktouie781IV"
      },
      "execution_count": null,
      "outputs": []
    },
    {
      "cell_type": "markdown",
      "source": [
        "### ✏︎ For you to do\n",
        "\n",
        "🎉 It's time! Create your whole quiz programmatically below. If you have any roommates or family members, have them try it out and give feedback. We'll also give feedback when you share it with the community, of course. "
      ],
      "metadata": {
        "id": "bcO4U6DaHQmE"
      }
    },
    {
      "cell_type": "code",
      "source": [
        "# YOUR CODE HERE\n",
        "quiz = Quiz(\"Quick Japanese Anime & Manga quiz\", [\n",
        "  Question(q1, answer_one),\n",
        "  Question(q2, answer_two),\n",
        "  Question(q3, answer_three),\n",
        "  Question(q4, answer_four),\n",
        "  Question(q5, answer_five),\n",
        "  Question(q6, answer_six)\n",
        "])\n",
        "\n",
        "quiz.display()\n",
        "\n",
        "# This won't ask any extra questions... \n",
        "# if you want to create one from the other options I put up above... \n",
        "# Go for it <3 \n",
        "\n",
        "# Wish I had more time to go into some of the extensions before submission.\n",
        "# Will see what I can do when I get back from school vacation with family"
      ],
      "metadata": {
        "id": "ol3_I7ivs_5X",
        "colab": {
          "base_uri": "https://localhost:8080/"
        },
        "outputId": "2f761100-d9b5-410b-bc40-1719082e896d"
      },
      "execution_count": null,
      "outputs": [
        {
          "output_type": "stream",
          "name": "stdout",
          "text": [
            "Quick Japanese Anime & Manga quiz\n",
            "What is Japanese Manga?\n",
            "Type the number corresponding to the correct answer.\n",
            "1. a style of Japanese film and television animation, typically aimed at adults as well as children.\n",
            "2. a style of Japanese comic books and graphic novels, typically aimed at adults as well as children.\n",
            "2\n",
            "Congratulations! that answer was correct.\n",
            "What is Japanese Anime?\n",
            "Type the number corresponding to the correct answer.\n",
            "1. a style of Japanese film and television animation, typically aimed at adults as well as children.\n",
            "2. a style of Japanese comic books and graphic novels, typically aimed at adults as well as children.\n",
            "1\n",
            "Congratulations! that answer was correct.\n",
            "How do you read Japanese Manga?\n",
            "Type the number corresponding to the correct answer.\n",
            "1. back to front\n",
            "2. front to back\n",
            "1\n",
            "Congratulations! that answer was correct.\n",
            "Where is one place you can watch Japanese Anime?\n",
            "Type your answer in (don't worry about capitalization):\n",
            "Netflix\n",
            "Congratulations! that answer was correct.\n",
            "What does the Japanese word Kawaii, mean?\n",
            "Type your answer in (don't worry about capitalization):\n",
            "cute\n",
            "Congratulations! that answer was correct.\n",
            "Which one of the these Japanese Anime DO NOT have any animal characters?\n",
            "Type the number corresponding to the correct answer.\n",
            "1. Totoro\n",
            "2. Porco Rosso\n",
            "3. Aggretsuko\n",
            "4. Dragonball Z\n",
            "5. Cowboy Bebop\n",
            "6. Sonic the Hedgehog\n",
            "7. One-Punch Man\n",
            "8. Avatar the Last Airbender\n",
            "7\n",
            "Congratulations! that answer was correct.\n",
            "The ratio of correct questions out of the total is 6 / 6\n"
          ]
        }
      ]
    },
    {
      "cell_type": "markdown",
      "source": [
        "## Extensions\n",
        "\n",
        "This project was inspired by the many OOP-based quiz systems I've worked on: Coursera's quizzes, Khan Academy's exercises, Berkeley tests, etc. Quizzes are everywhere - but they're also slightly different everywhere!\n",
        "\n",
        "Here are some ideas for ways you could change up your quiz system:\n",
        "\n",
        "* **Shuffling**: You could shuffle the choices within a `MultipleChoiceAnswer` and/or shuffle the questions within an entire quiz. The `random` module has a `shuffle` function that'd be mighty useful for this!\n",
        "* **Timing**: You could add a maximum duration for each quiz, keeping track of when the user started, showing how much time was left after each question, and warning them when they go over. Check out the `time` module for some useful functions.\n",
        "* **Fuzzier answer matching**: If you don't want to penalize users for spelling mistakes, you could check whether their answer was close in spelling to the correct answer (perhaps using the Levenshtein edit distance).\n",
        "* **More answer types**: For example, you could add a type where users answer just 'True' or 'False', or you could introduce a type where users select multiple correct answers out of a list. Each class would inherit from `Answer`.\n",
        "* **Feedback**: Instead of just telling users they're right or wrong, you could give them per-answer feedback about why their answer isn't right. That would definitely involve a change to the `Answer` constructors and `Question` display, and some thinking about how you want to specify feedback for each answer type. In my experience, giving feedback on wrong answers is very helpful for students and worth the work involved.\n",
        "\n",
        "If you have any ideas for quiz features but aren't sure how to implement them, just ask. We'd love to support you wherever you want to go with this project."
      ],
      "metadata": {
        "id": "8lVn86BoH_Sv"
      }
    }
  ]
}