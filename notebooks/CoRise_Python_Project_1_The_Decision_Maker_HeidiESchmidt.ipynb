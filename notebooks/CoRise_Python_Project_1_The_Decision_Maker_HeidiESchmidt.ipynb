{
  "nbformat": 4,
  "nbformat_minor": 0,
  "metadata": {
    "colab": {
      "provenance": []
    },
    "kernelspec": {
      "name": "python3",
      "display_name": "Python 3"
    },
    "language_info": {
      "name": "python"
    }
  },
  "cells": [
    {
      "cell_type": "markdown",
      "source": [
        "# Project 1: The Decision Maker\n",
        "\n",
        "⚠️   **Duplicate this project before you start working on it, using `File > Save a copy to drive`.**\n",
        "\n",
        "Computer programs make decisions that affect human lives all the time. Banks use algorithms to decide who is eligible for a loan, universities use algorithms to decide which students get on-campus housing, Gmail uses algorithms to decide whether to send an email to the spam folder. Since the fate of individuals' lives can depend on decisions made by algorithms, it's very important to think about how to make _good_ decisions.\n",
        "\n",
        "In this project, you'll build a program that can make a decision about how to prioritize an individual for an opportunity. You'll practice variables, functions, conditionals, and user input, all combined in one program. You'll also figure out how to test this program, both automatically and in the real world.\n"
      ],
      "metadata": {
        "id": "hlAX8ZqrzJ4C"
      }
    },
    {
      "cell_type": "markdown",
      "source": [
        "## Step 1: Pick a topic\n",
        "\n",
        "You all are coming from all around the world, and the decisions that are important in your community may be different from the decisions important to other communities. So, we will give suggestions for decision-making algorithms to program, and you can pick from this list or concoct your own. Each of these algorithms will come up with a score for an individual based on a series of questions, and individuals with higher scores would be prioritized for the opportunity.\n",
        "\n",
        "* **Student housing**: An algorithm that universities can use to figure out which of their students get to live in limited university housing spots. The score could consider factors like year of study, age, whether they're a TA, if they're on academic probation, their major, their hometown, etc.\n",
        "* **Vaccine shots**: Hospitals could use this to decide which of their patients get early access to limited vaccine doses. The score might consider factors like existing conditions, age, previous vaccinations, type of employment, socioeconomic status, etc.\n",
        "* **Small business loans**: An algorithm that a bank might use to decide whether to give a loan to a small business owner. The score might depend on factors like number of businesses they've run before, profit estimates, loss estimates, age, number of jobs held, etc.\n",
        "\n",
        "Those are a few ideas, but as I said, feel free to come up with your own idea. It's best if it's something you yourself have personal experience with, or something that your friends/family members/colleagues have experienced, so that you can discuss with them what would make sense. Remember, it's risky to outsource these sorts of decisions to computers, so we want you to put some thought into your algorithm.\n",
        "\n",
        "### Deliverable\n",
        "\n",
        "Describe the topic below (or just write the name of one of the suggested topics)."
      ],
      "metadata": {
        "id": "SSDiE1y1zUl3"
      }
    },
    {
      "cell_type": "markdown",
      "source": [
        "✏️  \n",
        "# Bicycling Decison Maker\n",
        "To get a score that determines if today is the day you should go bicycling\n",
        "\n",
        "* 70% or better is seize the day based on what you know \n",
        "* 50% or less is a fail \n",
        "* 0% is total fail \n",
        "\n",
        "# To answer the question -->  Should you go bicycling today? \n",
        "\n",
        "\n",
        "\n",
        "\n",
        "\n",
        "\n",
        "\n",
        "\n"
      ],
      "metadata": {
        "id": "dOQTYvJO1BGA"
      }
    },
    {
      "cell_type": "markdown",
      "source": [
        "**bold text**## Step 2: Design your algorithm\n",
        "\n",
        "Now it's time to actually come up with the algorithm. Limit yourself to the most important factors, so that you have enough time to actually turn this algorithm into a working program.\n",
        "\n",
        "Your algorithm will:\n",
        "* Ask someone a series of questions, such as \"How old are you?\" or \"Have you ever started a business before?\"\n",
        "* Assign points based on their answers. For a question like age, your algorithm might assign scores proportional to the number of years, or perhaps assign certain scores based on buckets (e.g. 5 points for 0-5, 3 points for 5-15, etc.) For a question like \"Are you immunocompromised?\", it may simply assign 10 points for \"yes\" and 0 points otherwise.\n",
        "* Accumulate their total points across all answers into a single numeric score, with a higher score indicating that the person is a better candidate for the opportunity than users with lower scores.\n",
        "\n",
        "### Constraints\n",
        "\n",
        "Since a big goal of this project is to practice using conditionals, we have several requirements for your question design:\n",
        "\n",
        "* At least one of your questions should assign points into buckets. _(Implementation tip: that's a great time to use `if`/`elif`/`else`)._\n",
        "* One of your questions should be answered by a number that gets arithmetically manipulated to come up with the corresponding points.\n",
        "\n",
        "### Deliverable\n",
        "\n",
        "Create a bulleted list of all the questions you'll ask, and how the answers will be mapped to points. Use nested lists for any follow-up questions."
      ],
      "metadata": {
        "id": "G4SzvXvUzb4W"
      }
    },
    {
      "cell_type": "markdown",
      "source": [
        "✏️ My algorithm will ask:\n",
        " \n",
        "0.  Is it the weekday or weekend? (Monday through Thursday = weekday, Friday through Sunday is the weekend) \n",
        "    * (Weekday Weekend)  \n",
        "1.  Where are you bicycling? \n",
        "    * (bike path, park, street, off-road) \n",
        "2.  Where do you live? \n",
        "    * (city, suburb, country)  \n",
        "3.   What time is it? \n",
        "    * (morning, noon, afternoon, night) \n",
        "4.   What season is it? \n",
        "    * (winter, spring, summer, fall) \n",
        "5.   Is the temperature above or below 50 degress Fahrenheit?  \n",
        "    *  (yes or no) \n",
        "6.   Do you have reflective gear?\n",
        "     * (yes or no) \n",
        "7.   Does the bicycle had lights, reflectors?\n",
        "    * (lights, reflectors, both) \n",
        "8.   Do the tires have air? \n",
        "    * (yes or no) \n",
        "9.   Do the brakes work?\n",
        "    * (yes or no) \n",
        "\n"
      ],
      "metadata": {
        "id": "W_OiFIjV04VM"
      }
    },
    {
      "cell_type": "markdown",
      "source": [
        "# Scoring \n",
        "\n",
        "Scoring weights per question: \n",
        "\n",
        "0.   Day of week -- \n",
        "     * Weekday Monday through Thursday = 10 \n",
        "     * Weekend Friday through Sunday = 0 \n",
        "1.   Bicycling on -- \n",
        "      * bike path = 10\n",
        "      * park = 1\n",
        "      * off-road = 1\n",
        "      * street = 1\n",
        "2.   Location -- \n",
        "     *  country = 10\n",
        "     *  suburb = 1\n",
        "     *  city = 0\n",
        "3.   Timing -- \n",
        "     * morning = 1\n",
        "     * noon = 1\n",
        "     * afternoon = 10\n",
        "     * night = 1 \n",
        "4.   Season -- \n",
        "     * summer = 10\n",
        "     * spring = 1\n",
        "     * fall = 1\n",
        "     * winter = 0 \n",
        "5.   Temp -- \n",
        "     * above = 10 \n",
        "     * below = 1 \n",
        "6.   Reflective Gear -- \n",
        "     * yes = 10 \n",
        "     * no = 0 \n",
        "7.   Lights and/or Reflectors -- \n",
        "     * lights = 1 \n",
        "     * reflectors = 1 \n",
        "     * both = 10 \n",
        "8.   Air -- \n",
        "     * yes = 10 \n",
        "     * no = 1 \n",
        "9.   Brakes -- \n",
        "     * yes = 10\n",
        "     * no = 0 \n",
        "\n",
        "\n"
      ],
      "metadata": {
        "id": "3YlvrEOYV2xi"
      }
    },
    {
      "cell_type": "markdown",
      "source": [
        "## Plan your tests\n",
        "\n",
        "A great practice in programming is to come up with test cases _before_ writing a program. That can help you think more carefully about whether the planned program will actually do what you are hoping, and will make it easy to verify that the code you write actually works.\n",
        "\n",
        "Either interview three people or come up with three fictional people who might encounter this algorithm in their lives. Figure out how they would answer the questions, run the answers through your proposed algorithm, and see what scores result. Do their relative scores make sense? Are they fair? If they do, great! If not, keep tweaking your algorithm or add/remove questions as needed to improve it.\n",
        "\n",
        "### Deliverable\n",
        "\n",
        "Make a list of the test cases, with the expected score for each case and a sublist of question/answer scores. You'll translate these test cases into code later.\n"
      ],
      "metadata": {
        "id": "M-8MH5hG0CMx"
      }
    },
    {
      "cell_type": "markdown",
      "source": [
        "✏️ Test cases:\n",
        "\n",
        "* User 1: expected score of [100] # inside will be safest and weather independent \n",
        "  * [inside_or_outside]: [inside]\n",
        "  * [day_of_week]: ['']\n",
        "  * [location]: ['']\n",
        "  * [area]: ['']\n",
        "  * [time_of_day]: ['']\n",
        "  * [time_of_year]: ['']\n",
        "  * [temp_outside]: ['']\n",
        "  * [reflective_gear]: ['']\n",
        "  * [lights]: ['']\n",
        "  * [air]: ['']\n",
        "  * [brakes]:['']\n",
        "\n",
        "* User 2: expected score of [0] # no brakes means an absolute no go on the bike ride \n",
        "  * [inside_or_outside]: [outside]\n",
        "  * [day_of_week]: [weekday]\n",
        "  * [location]: [off-road]\n",
        "  * [area]: [country]\n",
        "  * [time_of_day]: [afternoon]\n",
        "  * [time_of_year]: [summer]\n",
        "  * [temp_outside]: [above]\n",
        "  * [reflective_gear]: [both]\n",
        "  * [lights]: [yes]\n",
        "  * [air]: [no]\n",
        "  * [brakes]:[no]\n",
        "\n",
        "* User 3: expected score of [100]\n",
        "  * [inside_or_outside]: [outside]\n",
        "  * [day_of_week]: [weekend]\n",
        "  * [location]: [bikepath]\n",
        "  * [area]: [country]\n",
        "  * [time_of_day]: [afternoon]\n",
        "  * [time_of_year]: [summer]\n",
        "  * [temp_outside]: [above]\n",
        "  * [reflective_gear]: [yes]\n",
        "  * [lights]: [both]\n",
        "  * [air]: [yes]\n",
        "  * [brakes]:[yes]\n",
        "\n",
        "* User 4: expected score of [28]\n",
        "  * [inside_or_outside]: [outside]\n",
        "  * [day_of_week]: [weekday]\n",
        "  * [location]: [street]\n",
        "  * [area]: [city]\n",
        "  * [time_of_day]: [morning]\n",
        "  * [time_of_year]: [spring]\n",
        "  * [temp_outside]: [below]\n",
        "  * [reflective_gear]: [no]\n",
        "  * [lights]: [both]\n",
        "  * [air]: [no]\n",
        "  * [brakes]:[yes]\n",
        "\n",
        "* User 5: expected score of [28]\n",
        "  * [inside_or_outside]: [outside]\n",
        "  * [day_of_week]: [weekday]\n",
        "  * [location]: [off-road]\n",
        "  * [area]: [city]\n",
        "  * [time_of_day]: [morning]\n",
        "  * [time_of_year]: [spring]\n",
        "  * [temp_outside]: [below]\n",
        "  * [reflective_gear]: [no]\n",
        "  * [lights]: [both]\n",
        "  * [air]: [no]\n",
        "  * [brakes]:[yes]\n",
        " \n",
        "* User 6: expected score of [19]\n",
        "  * [inside_or_outside]: [outside]\n",
        "  * [day_of_week]: [weekday]\n",
        "  * [location]: [off-road]\n",
        "  * [area]: [suburb]\n",
        "  * [time_of_day]: [night]\n",
        "  * [time_of_year]: [winter]\n",
        "  * [temp_outside]: [below]\n",
        "  * [reflective_gear]: [no]\n",
        "  * [lights]: [lights]\n",
        "  * [air]: [no]\n",
        "  * [brakes]:[yes]\n",
        "\n",
        "* User 7: expected score of [-10] # This counts for empty strings or misspellings\n",
        "  * [inside_or_outside]: [outside]\n",
        "  * [day_of_week]: ['']\n",
        "  * [location]: ['']\n",
        "  * [area]: ['']\n",
        "  * [time_of_day]: ['']\n",
        "  * [time_of_year]: ['']\n",
        "  * [temp_outside]: ['']\n",
        "  * [reflective_gear]: ['']\n",
        "  * [lights]: ['']\n",
        "  * [air]: ['']\n",
        "  * [brakes]:['']\n",
        "\n",
        "* User 8: expected score of [10] # anything that does not match the good responses is going to get you 10 points\n",
        "  * [inside_or_outside]: [abc]\n",
        "  * [day_of_week]: [def]\n",
        "  * [location]: [ghi]\n",
        "  * [area]: [jkl]\n",
        "  * [time_of_day]: [mno]\n",
        "  * [time_of_year]: [pqr]\n",
        "  * [temp_outside]: [stu]\n",
        "  * [reflective_gear]: [vwx]\n",
        "  * [lights]: [yz1]\n",
        "  * [air]: [234]\n",
        "  * [brakes]:[567]\n"
      ],
      "metadata": {
        "id": "7bLvLJlO0J_U"
      }
    },
    {
      "cell_type": "markdown",
      "source": [
        "## Transform into code\n",
        "\n",
        "It's time to turn those plans into a program. You'll write all the code inside this notebook.\n",
        "\n",
        "The first part of the program is `calculate_score`, the function that will do the bulk of the computational work (with a whole lot of conditionals and arithmetic). The skeleton code below just has a few arguments, no conditionals or computations, and a not-so-useful doctest. You'll end up modifying this function quite a bit."
      ],
      "metadata": {
        "id": "J93zZ5Jj1Nnk"
      }
    },
    {
      "cell_type": "code",
      "source": [
        "def calculate_bike_score(inside_or_outside, day_of_week, location, area, time_of_day, time_of_year, temp_outside, reflective_gear, lights, air, brakes):\n",
        "  \"\"\" \n",
        "  Calculates score for whether to go bicycling that day\n",
        "  A score of 100 is good to go \n",
        "  A score of 50 or less is a failure \n",
        "  Anything in-between is a yolo call by the bicyclist to use good judgement \n",
        "\n",
        "  :param inside_or_outside: str\n",
        "  :param day_of_week: str\n",
        "  :param location: str\n",
        "  :param area: str\n",
        "  :param time_of_day: str\n",
        "  :param time_of_year: str\n",
        "  :param temp_outside: str\n",
        "  :param reflective_gear: str\n",
        "  :param lights: str\n",
        "  :param brakes: str \n",
        "  :return int \n",
        "\n",
        "  >>> calculate_bike_score(\"inside\", \"weekend\", \"bikepath\", \"country\", \"afternoon\", \"summer\", \"above\", \"yes\", \"both\", \"yes\", \"yes\")\n",
        "  100\n",
        "  >>> calculate_bike_score(\"outside\", \"weekday\", \"bikepath\", \"country\", \"afternoon\", \"summer\", \"above\", \"yes\", \"both\", \"no\", \"no\")\n",
        "  0\n",
        "  >>> calculate_bike_score(\"outside\", \"weekend\", \"bikepath\", \"country\", \"afternoon\", \"summer\", \"above\", \"yes\", \"both\", \"yes\", \"yes\")\n",
        "  100\n",
        "  >>> calculate_bike_score(\"outside\", \"weekday\", \"street\", \"city\", \"morning\", \"spring\", \"below\", \"no\", \"both\", \"no\", \"yes\") \n",
        "  28\n",
        "  >>> calculate_bike_score(\"outside\", \"weekday\", \"off-road\", \"city\", \"morning\", \"spring\", \"below\", \"no\", \"both\", \"no\", \"yes\")\n",
        "  28\n",
        "  >>> calculate_bike_score(\"outside\", \"weekday\", \"off-road\", \"suburb\", \"night\", \"winter\", \"below\", \"no\", \"lights\", \"no\", \"yes\")\n",
        "  19\n",
        "  >>> calculate_bike_score(\"outside\", \"\", \"\", \"\", \"\", \"\", \"\", \"\", \"\", \"\", \"\")\n",
        "  -10\n",
        "  >>> calculate_bike_score(\"\", \"\", \"\", \"\", \"\", \"\", \"\", \"\", \"\", \"\", \"\")\n",
        "  -10\n",
        "  >>> calculate_bike_score(\"abc\", \"def\", \"ghi\", \"jkl\", \"mno\", \"pqr\", \"stu\", \"vwx\", \"yz1\", \"234\", \"567\")\n",
        "  10\n",
        "  \"\"\"\n",
        "  score = 0\n",
        "  survey = [day_of_week, location, area, time_of_day, time_of_year, temp_outside, reflective_gear, lights, air, brakes]\n",
        "  good_responses = ['weekend', 'bikepath','country','afternoon','summer','above','yes','both','yes','yes']\n",
        "  if inside_or_outside == \"inside\":\n",
        "    score += 100\n",
        "    return score\n",
        "  if brakes == \"no\":\n",
        "  \tscore = 0 \n",
        "  \treturn score \n",
        "  for idx in range(len(survey)):\n",
        "    if survey[idx] =='':\n",
        "      score -= 1\n",
        "      # print(f\"Question {idx} is empty. This counts against your score. You can retake the survey after this completes.\")\n",
        "    elif survey[idx] == good_responses[idx]:\n",
        "      score += 10 \n",
        "    else:\n",
        "      score += 1\n",
        "  return score \n",
        "\n",
        "\n",
        "# This code runs the doctests to see if they pass/fail\n",
        "import doctest\n",
        "doctest.testmod()\n",
        "\n",
        "# Learned this from looking at others code \n",
        "doctest.run_docstring_examples(calculate_bike_score, globals(),\n",
        "    verbose=True, name=\"calculate_score\")"
      ],
      "metadata": {
        "colab": {
          "base_uri": "https://localhost:8080/"
        },
        "id": "cAUt8RRHyYV9",
        "outputId": "84dd900c-1efa-4146-b2eb-59028ee09ba5"
      },
      "execution_count": null,
      "outputs": [
        {
          "output_type": "stream",
          "name": "stderr",
          "text": [
            "\n",
            "PYDEV DEBUGGER WARNING:\n",
            "sys.settrace() should not be used when the debugger is being used.\n",
            "This may cause the debugger to stop working correctly.\n",
            "If this is needed, please check: \n",
            "http://pydev.blogspot.com/2007/06/why-cant-pydev-debugger-work-with.html\n",
            "to see how to restore the debug tracing back correctly.\n",
            "Call Location:\n",
            "  File \"/usr/lib/python3.7/doctest.py\", line 1487, in run\n",
            "    sys.settrace(save_trace)\n",
            "\n"
          ]
        },
        {
          "output_type": "execute_result",
          "data": {
            "text/plain": [
              "TestResults(failed=0, attempted=9)"
            ]
          },
          "metadata": {},
          "execution_count": 1
        }
      ]
    },
    {
      "cell_type": "markdown",
      "source": [
        "Next, the code below uses `input()` to ask each question, remembering the answers in variables. It sends the answers to `calculate_score()` and prints out the returned score. You'll be modifying this code to ask your own questions, most likely asking more than just two questions.\n",
        "\n",
        "The code below won't work without `calculate_score` being defined, so make sure you run the code block above before you run this code, and re-run the first code block if you ever change it.\n"
      ],
      "metadata": {
        "id": "XnS8T_9u1ypC"
      }
    },
    {
      "cell_type": "code",
      "source": [
        "inside_or_outside = input('Are you bicycling on a stationary bicycle or bicycling outside? Please answer inside for stationary bike or outside for outside bicycling riding. --> ')\n",
        "day_of_week = input('Are you bicycling on a weekday or weekend? (Monday through Thursday = Weekday, Friday through Sunday = Weekend) --> ').lower()\n",
        "location = input('Where are you going to go bicycling? Pick one of these options: Bike path, Park, Street, Off-road --> ').lower().replace(\" \", \"\")\n",
        "area = input('Where do you live? Pick one of these options: City, Suburb, Country --> ').lower()\n",
        "time_of_day = input('When will you be bicycling? Pick one of these options: Morning, Noon, Afternoon, Night --> ').lower()\n",
        "time_of_year = input('Let us know what season it is that you are bicycling in? Pick one of these options: Winter, Spring, Summer, Fall --> ').lower()\n",
        "temp_outside = input('Is the temperature outside above or below 50 degrees Fahrenheit? Answer above or below. --> ').lower()\n",
        "reflective_gear = input('Are you wearing reflective gear on your bike ride? Answer Yes or No. --> ').lower()\n",
        "lights = input('Does your bike have lights, reflectors, or both? Answer light, reflectors or both. --> ').lower()\n",
        "air = input(\"Does the bike have air in it's tires? Answer Yes or No. --> \").lower()\n",
        "brakes = input('Have you checked the brakes before your bike ride to see if they work? Answer Yes or No. --> ').lower()"
      ],
      "metadata": {
        "colab": {
          "base_uri": "https://localhost:8080/"
        },
        "id": "UnFF3A6pqPCI",
        "outputId": "330ed4bb-c987-4bd4-82c4-445d725580c2"
      },
      "execution_count": null,
      "outputs": [
        {
          "name": "stdout",
          "output_type": "stream",
          "text": [
            "Are you bicycling on a stationary bicycle or bicycling outside? Please answer inside for stationary bike or outside for outside bicycling riding. --> outside\n",
            "Are you bicycling on a weekday or weekend? (Monday through Thursday = Weekday, Friday through Sunday = Weekend) --> weekend\n",
            "Where are you going to go bicycling? Pick one of these options: Bike path, Park, Street, Off-road --> bike path\n",
            "Where do you live? Pick one of these options: City, Suburb, Country --> city\n",
            "When will you be bicycling? Pick one of these options: Morning, Noon, Afternoon, Night --> afternoon\n",
            "Let us know what season it is that you are bicycling in? Pick one of these options: Winter, Spring, Summer, Fall --> spring\n",
            "Is the temperature outside above or below 50 degrees Fahrenheit? Answer above or below. --> above\n",
            "Are you wearing reflective gear on your bike ride? Answer Yes or No. --> yes\n",
            "Does your bike have lights, reflectors, or both? Answer light, reflectors or both. --> reflectors\n",
            "Does the bike have air in it's tires? Answer Yes or No. --> yes\n",
            "Have you checked the brakes before your bike ride to see if they work? Answer Yes or No. --> yes\n"
          ]
        }
      ]
    },
    {
      "cell_type": "code",
      "source": [
        "# To check the values \n",
        "print(inside_or_outside, day_of_week, location, area, time_of_day, time_of_year, temp_outside, reflective_gear, lights, air, brakes)"
      ],
      "metadata": {
        "id": "LN07O-kuqnI2",
        "colab": {
          "base_uri": "https://localhost:8080/"
        },
        "outputId": "1938c7e0-868a-4453-ed83-5b4afbd4818a"
      },
      "execution_count": null,
      "outputs": [
        {
          "output_type": "stream",
          "name": "stdout",
          "text": [
            "outside weekend bikepath city afternoon spring above yes reflectors yes yes\n"
          ]
        }
      ]
    },
    {
      "cell_type": "code",
      "source": [
        "# Answers have been inputted \n",
        "# score = calculate_bike_score(inside_or_outside, day_of_week, location, area, time_of_day, time_of_year, temp_outside, reflective_gear, lights, air, brakes)\n",
        "\n",
        "score = calculate_bike_score(\"outside\", \"weekend\", \"bikepath\", \"city\", \"afternoon\", \"spring\", \"above\", \"yes\", \"reflectors\", \"yes\", \"yes\")\n",
        "if score >= 70: \n",
        "  print(f\"Your score is {score}. It's a good day for a bike ride!\")\n",
        "elif score >= 51 and score <= 69:\n",
        "  print(f\"Your score is {score}. Check your bike, verify the weather is good and make sure it's not too busy or a commute time for bicycling outside.\")\n",
        "elif score <= 50:\n",
        "  print(f\"Today is not the day to bicycle for you. Your score was {score}.\")\n",
        "else:\n",
        "  print(f\"Recheck your answers, or your bike. Your score was a little low at {score}\")\n"
      ],
      "metadata": {
        "colab": {
          "base_uri": "https://localhost:8080/"
        },
        "id": "vjDZWCg7wikg",
        "outputId": "72ac888b-5d20-45ce-8241-b31a11eb4275"
      },
      "execution_count": null,
      "outputs": [
        {
          "output_type": "stream",
          "name": "stdout",
          "text": [
            "Your score is 73. It's a good day for a bike ride!\n"
          ]
        }
      ]
    },
    {
      "cell_type": "markdown",
      "source": [
        "\n",
        "# Self Assessment questions for the Project \n",
        "\n",
        "* Were you able to ask at least 3 questions and compute a score based on the answers? Yes\n",
        "* Does your score calculation function use at least one elif? Yes\n",
        "* Do you have test cases that cover all of the conditionals? (i.e. is every line of code executed at least once when the tests re run?) Yes\n",
        "* Is there anywhere you are still stuck or confused? Or any particular part of the code you’d like focused feedback? Yes, to make the function better with a dictionary and to understand the list comprehension to make a dictionary of the permutations. And to have better conditionals to sort out the bad permutations (combinations of choices) \n",
        "* What are you most proud of about your project? I had fun. I didn't have to do a nested for loop. I realized two edge cases that would cause failure and re-worked the code to check immediately for those. \n"
      ],
      "metadata": {
        "id": "-O5jUagwXDwd"
      }
    },
    {
      "cell_type": "markdown",
      "source": [
        "# Here's one way to go about this project:\n",
        "\n",
        "* First write all the code to ask the questions with `input()` calls, and make sure the variables are all correctly stored. \n",
        "* Then implement the `calculate_score()` function, adding all the conditionals and calculations as needed.\n",
        "\n",
        "You could also tackle it in reverse, or even alternate between `input()` and `calculate_score()` - whatever works best for you.\n",
        "\n",
        "By the time you're done (or along the way), make sure you've ported all your test cases from before into the doctests for `calculate_scores` and that they all pass. It's a whole lot easier to run doctests than to continually type in answers to series of questions, so I recommend bringing in the tests early for faster development and debugging."
      ],
      "metadata": {
        "id": "KM_Y16Bq2gra"
      }
    },
    {
      "cell_type": "markdown",
      "source": [
        "## Reflection\n",
        "\n",
        "Congratulations! 🎉 You've written a program that can make a complex decision. This may be the first of many!\n",
        "\n",
        "Now is a good time to reflect on the fairness of your own decision making algorithm as well as decision making algorithms in general.\n",
        "\n",
        "Here are a few articles that discuss algorithmic decision making:\n",
        "\n",
        "* [What Happens When An Algorithm Cuts Your Health Care](https://www.theverge.com/2018/3/21/17144260/healthcare-medicaid-algorithm-arkansas-cerebral-palsy)  by Colin Lecher\n",
        "* [We Created Poverty; Algorithms Won't Make That Go Away](https://www.theguardian.com/commentisfree/2018/may/13/we-created-poverty-algorithms-wont-make-that-go-away) by Virginia Eubanks\n",
        "\n",
        "If you have time to read a whole book, [Weapons of Math Destruction](https://www.penguinrandomhouse.com/books/241363/weapons-of-math-destruction-by-cathy-oneil/) by Cathy O'Neil is a fascinating deep dive.\n",
        "\n",
        "\n",
        "Another article which is relevant is \n",
        "* [NarxCare - Opioid Addiction Algorithm Chronic Pain](https://www.wired.com/story/opioid-drug-addiction-algorithm-chronic-pain/)\n",
        "\n",
        "\n",
        "### Deliverable\n",
        "\n",
        "Respond to the following questions."
      ],
      "metadata": {
        "id": "tczCE2Ug2ly_"
      }
    },
    {
      "cell_type": "markdown",
      "source": [
        "✏️ \n",
        "* Which people are most likely to benefit from your algorithm? Which people are most likely to be harmed/denied benefits from your algorithm? **Folks who want to go bicycling and may be on the fence for knowing how to deciede**\n",
        "   _____\n",
        "* If you had infinite time/resources/programming power, what would improve the algorithm? Or is it impossible to fairly automate a decision like this? I'd make the possible responses a dictionary to work with. I'd have a few more permutations and checks so that it would a better decision maker. I'd like to try building the permutations with a list comprehension method on a tuple.\n",
        "   ____"
      ],
      "metadata": {
        "id": "OCCvzIj84yR_"
      }
    },
    {
      "cell_type": "markdown",
      "source": [
        "## Attribution\n",
        "\n",
        "This project was based on [\"Algorithms as Decision-Makers\"](http://nifty.stanford.edu/2020/peck-decision-makers/) from Evan Peck at Bucknell University. Thank you, Evan and team."
      ],
      "metadata": {
        "id": "EwNTSviJ5SiQ"
      }
    }
  ]
}