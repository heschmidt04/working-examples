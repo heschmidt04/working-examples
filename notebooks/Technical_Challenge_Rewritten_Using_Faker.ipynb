{
  "nbformat": 4,
  "nbformat_minor": 0,
  "metadata": {
    "colab": {
      "provenance": []
    },
    "kernelspec": {
      "name": "python3",
      "display_name": "Python 3"
    },
    "language_info": {
      "name": "python"
    }
  },
  "cells": [
    {
      "cell_type": "markdown",
      "source": [
        "# The goal for the techical challenge is to combine each individual users behavior under the id for that user"
      ],
      "metadata": {
        "id": "VKOTPLiBdRbA"
      }
    },
    {
      "cell_type": "code",
      "execution_count": null,
      "metadata": {
        "colab": {
          "base_uri": "https://localhost:8080/"
        },
        "id": "H4ybdf3DakpE",
        "outputId": "0f4ea8e7-b7ee-4d07-965b-13916ecf8022"
      },
      "outputs": [
        {
          "output_type": "stream",
          "name": "stdout",
          "text": [
            "Collecting Faker\n",
            "  Downloading Faker-13.11.0-py3-none-any.whl (1.5 MB)\n",
            "\u001b[K     |████████████████████████████████| 1.5 MB 7.5 MB/s \n",
            "\u001b[?25hRequirement already satisfied: python-dateutil>=2.4 in /usr/local/lib/python3.7/dist-packages (from Faker) (2.8.2)\n",
            "Requirement already satisfied: typing-extensions>=3.10.0.2 in /usr/local/lib/python3.7/dist-packages (from Faker) (4.2.0)\n",
            "Requirement already satisfied: six>=1.5 in /usr/local/lib/python3.7/dist-packages (from python-dateutil>=2.4->Faker) (1.15.0)\n",
            "Installing collected packages: Faker\n",
            "Successfully installed Faker-13.11.0\n"
          ]
        }
      ],
      "source": [
        "# Imports for URL request, json, and making fake data \n",
        "import requests\n",
        "import json \n",
        "\n",
        "!pip install Faker\n",
        "from faker import Faker"
      ]
    },
    {
      "cell_type": "markdown",
      "source": [
        "# Faker\n",
        "* To replicate the API I needed to pull in the Python module Faker in order to continue so that I can start with 150 pieces of click stream data \n",
        "\n",
        " \n",
        "## Source references: \n",
        "\n",
        "https://faker.readthedocs.io/en/master/providers/faker.providers.person.html\n",
        "\n",
        "https://faker.readthedocs.io/en/master/providers/faker.providers.internet.html#faker.providers.internet.Provider.ipv4 Fully dotted quad \n",
        "\n",
        "\n",
        "\n",
        "https://faker.readthedocs.io/en/master/providers/faker.providers.date_time.html#faker.providers.date_time.Provider.month_name  Month\n",
        "\n",
        "https://faker.readthedocs.io/en/master/providers/faker.providers.date_time.html#faker.providers.date_time.Provider.day_of_month  Day \n",
        "\n",
        "https://faker.readthedocs.io/en/master/providers/faker.providers.date_time.html\n",
        "HH:MM:SS\n",
        "\n",
        "https://faker.readthedocs.io/en/master/providers/faker.providers.date_time.html#faker.providers.date_time.Provider.am_pm  AM/PM \n",
        "\n",
        "### Notes: \n",
        " \n",
        "* \tuser id will have to have a dictionary with  \n",
        "* \tuser \"names\", # From Faker  \n",
        "* \tip addresses, # From Faker \n",
        "* \tthrivey_score, # From Faker use less than or equal to 100\n",
        "* \trandom date # From Faker(s) combined -- see above "
      ],
      "metadata": {
        "id": "WqKD6T3ja1ND"
      }
    },
    {
      "cell_type": "markdown",
      "source": [
        "# Sample JSON formats for start_json and final_json (called input_records and output_records)\n",
        "\n",
        "```\n",
        "starting_json = [\n",
        "\t{\n",
        "\t\t\"id\": 1,\n",
        "\t\t\"user\": {\n",
        "\t\t\t\"id\": 1,\n",
        "\t\t\t\"first_name\": \"Fawne\",\n",
        "\t\t\t\"last_name\": \"MacDowal\",\n",
        "\t\t\t\"user_created\": \"Sep 14, 2021 4:32 AM\",\n",
        "\t\t\t\"thrivey_score\": 81,\n",
        "\t\t},\n",
        "\t\t\"behaviour\": {\n",
        "\t\t\t\"user_id\": 1,\n",
        "\t\t\t\"session_id\": 3,\n",
        "\t\t\t\"user_action\": \"C423\",\n",
        "\t\t\t\"date_created\": \"Oct 17, 2021 5:23 AM\",\n",
        "\t\t\t\"ipv4\": \"172.30.189.226\",\n",
        "\t\t},\n",
        "\t},\n",
        "\t{\n",
        "\t\t\"id\": 1,\n",
        "\t\t\"user\": {\n",
        "\t\t\t\"id\": 1,\n",
        "\t\t\t\"first_name\": \"Fawne\",\n",
        "\t\t\t\"last_name\": \"MacDowal\",\n",
        "\t\t\t\"user_created\": \"Sep 14, 2021 4:32 AM\",\n",
        "\t\t\t\"thrivey_score\": 81,\n",
        "\t\t},\n",
        "\t\t\"behaviour\": {\n",
        "\t\t\t\"user_id\": 1,\n",
        "\t\t\t\"session_id\": 1,\n",
        "\t\t\t\"user_action\": \"E77\",\n",
        "\t\t\t\"date_created\": \"Oct 16, 2021 7:05 PM\",\n",
        "\t\t\t\"ipv4\": \"10.49.192.181\",\n",
        "\t\t}\n",
        "}\n",
        "]\n",
        "```\n",
        "\n",
        "```\n",
        "final_json = [\n",
        "  {\n",
        "  \t\"1\": {\n",
        "  \t\t\"user\": {\n",
        "  \t\t\t\"id\": 1,\n",
        "  \t\t\t\"first_name\": \"Fawne\",\n",
        "  \t\t\t\"last_name\": \"MacDowal\",\n",
        "  \t\t\t\"user_created\": \"Sep 14, 2021 4:32 AM\",\n",
        "  \t\t\t\"thrivey_score\": 81\n",
        "  \t\t},\n",
        "  \t\t\"behaviour\": [\n",
        "  \t\t\t{\n",
        "  \t\t\t\t\"user_id\": 1,\n",
        "  \t\t\t\t\"session_id\": 3,\n",
        "  \t\t\t\t\"user_action\": \"C423\",\n",
        "  \t\t\t\t\"date_created\": \"Oct 17, 2021 5:23 AM\",\n",
        "  \t\t\t\t\"ipv4\": \"172.30.189.226\"\n",
        "  \t\t\t},\n",
        "  \t\t\t{\n",
        "  \t\t\t\t\"user_id\": 1,\n",
        "  \t\t\t\t\"session_id\": 1,\n",
        "  \t\t\t\t\"user_action\": \"E77\",\n",
        "  \t\t\t\t\"date_created\": \"Oct 16, 2021 7:05 PM\",\n",
        "  \t\t\t\t\"ipv4\": \"10.49.192.181\"\t\n",
        "\n",
        "  \t\t\t}\n",
        "  \t\t]\n",
        "  \t}\n",
        "}\n",
        "]\n",
        "```"
      ],
      "metadata": {
        "id": "YoXWGUhN3S37"
      }
    },
    {
      "cell_type": "code",
      "source": [
        "##########################################\n",
        "# Original Code challenge \n",
        "##########################################\n",
        "\"\"\"\n",
        "Access the API is not available.\n",
        "So I will be mocking this up \n",
        "\n",
        "# Returns our API + Access Token \n",
        "# api_url =\"https://thrivey-test-r4dnb5jinga-uc.a.run.app/\"\n",
        "# access_token = \"abcd-ef-ghij\"\n",
        "\n",
        "##########################################\n",
        "# TODO 1. Prepare Request\n",
        "##########################################\n",
        "\n",
        "# api_route = \"user_behaviour/json\"\n",
        "# url = \"api_url + api_route\"\n",
        "\n",
        "# print(f\"Thrivey api_url: {url}\")\n",
        "##'Authorization': Bearer {access_token}'\n",
        "\n",
        "# headers = {\"Authorization\": (f\"Bearer: {access_token}\")}\n",
        "# response = requests.request(\"GET\", url, headers=headers)\n",
        "# Expect this to be a class requests.models.Response object \n",
        "\n",
        "# starting_json = response.json()\n",
        "# Expect this to be a dictionary object \n",
        "\n",
        "# Return record count -- 150 were made \n",
        "# print(f\"Returned: '{len(response.json())}' records.\")\n",
        "\n",
        "\"\"\"\n",
        "##########################################\n",
        "# Start solution here \n",
        "##########################################\n",
        "# This will be the final object to be validated\n",
        "# This dictionary will have the user with its behaviors combined into one record \n",
        "\n"
      ],
      "metadata": {
        "id": "AkKqnY14fJfO"
      },
      "execution_count": null,
      "outputs": []
    },
    {
      "cell_type": "code",
      "source": [
        "# Create starting_json from mock up, calling it input_records\n",
        "input_records = [\n",
        "\t{\n",
        "\t\t\"id\": 1,\n",
        "\t\t\"user\": {\n",
        "\t\t\t\"id\": 1,\n",
        "\t\t\t\"first_name\": \"Fawne\",\n",
        "\t\t\t\"last_name\": \"MacDowal\",\n",
        "\t\t\t\"user_created\": \"Sep 14, 2021 4:32 AM\",\n",
        "\t\t\t\"thrivey_score\": 81,\n",
        "\t\t},\n",
        "\t\t\"behaviour\": {\n",
        "\t\t\t\"user_id\": 1,\n",
        "\t\t\t\"session_id\": 3,\n",
        "\t\t\t\"user_action\": \"C423\",\n",
        "\t\t\t\"date_created\": \"Oct 17, 2021 5:23 AM\",\n",
        "\t\t\t\"ipv4\": \"172.30.189.226\",\n",
        "\t\t},\n",
        "\t},\n",
        "\t{\n",
        "\t\t\"id\": 1,\n",
        "\t\t\"user\": {\n",
        "\t\t\t\"id\": 1,\n",
        "\t\t\t\"first_name\": \"Fawne\",\n",
        "\t\t\t\"last_name\": \"MacDowal\",\n",
        "\t\t\t\"user_created\": \"Sep 14, 2021 4:32 AM\",\n",
        "\t\t\t\"thrivey_score\": 81,\n",
        "\t\t},\n",
        "\t\t\"behaviour\": {\n",
        "\t\t\t\"user_id\": 1,\n",
        "\t\t\t\"session_id\": 1,\n",
        "\t\t\t\"user_action\": \"E77\",\n",
        "\t\t\t\"date_created\": \"Oct 16, 2021 7:05 PM\",\n",
        "\t\t\t\"ipv4\": \"10.49.192.181\",\n",
        "\t\t}\n",
        "}\n",
        "]\n",
        "\n",
        "# This makes it a string \n",
        "test = json.dumps(input_records)\n",
        "# Can't make a class response object after the fact\n",
        "\n",
        "print(type(input_records))\n",
        "print(type(test))\n",
        "\n",
        "# Pretty Print-ish for json\n",
        "# json.dumps(test, indent = 4)"
      ],
      "metadata": {
        "colab": {
          "base_uri": "https://localhost:8080/",
          "height": 124
        },
        "id": "pXi7SwoO7rHO",
        "outputId": "50df9d49-cfd3-470a-b330-21cf1cdda985"
      },
      "execution_count": null,
      "outputs": [
        {
          "output_type": "stream",
          "name": "stdout",
          "text": [
            "<class 'list'>\n",
            "<class 'str'>\n"
          ]
        },
        {
          "output_type": "execute_result",
          "data": {
            "text/plain": [
              "'\"[{\\\\\"id\\\\\": 1, \\\\\"user\\\\\": {\\\\\"id\\\\\": 1, \\\\\"first_name\\\\\": \\\\\"Fawne\\\\\", \\\\\"last_name\\\\\": \\\\\"MacDowal\\\\\", \\\\\"user_created\\\\\": \\\\\"Sep 14, 2021 4:32 AM\\\\\", \\\\\"thrivey_score\\\\\": 81}, \\\\\"behaviour\\\\\": {\\\\\"user_id\\\\\": 1, \\\\\"session_id\\\\\": 3, \\\\\"user_action\\\\\": \\\\\"C423\\\\\", \\\\\"date_created\\\\\": \\\\\"Oct 17, 2021 5:23 AM\\\\\", \\\\\"ipv4\\\\\": \\\\\"172.30.189.226\\\\\"}}, {\\\\\"id\\\\\": 1, \\\\\"user\\\\\": {\\\\\"id\\\\\": 1, \\\\\"first_name\\\\\": \\\\\"Fawne\\\\\", \\\\\"last_name\\\\\": \\\\\"MacDowal\\\\\", \\\\\"user_created\\\\\": \\\\\"Sep 14, 2021 4:32 AM\\\\\", \\\\\"thrivey_score\\\\\": 81}, \\\\\"behaviour\\\\\": {\\\\\"user_id\\\\\": 1, \\\\\"session_id\\\\\": 1, \\\\\"user_action\\\\\": \\\\\"E77\\\\\", \\\\\"date_created\\\\\": \\\\\"Oct 16, 2021 7:05 PM\\\\\", \\\\\"ipv4\\\\\": \\\\\"10.49.192.181\\\\\"}}]\"'"
            ],
            "application/vnd.google.colaboratory.intrinsic+json": {
              "type": "string"
            }
          },
          "metadata": {},
          "execution_count": 22
        }
      ]
    },
    {
      "cell_type": "code",
      "source": [
        "##########################################\n",
        "# TODO 2. Split/Merge UserBehavior JSON \n",
        "##########################################\n",
        "\"\"\"\n",
        "The aim will be to merge all of the behaviour{} objects \n",
        "associated with a single user{} \n",
        "\n",
        "The new UserBehaviour{} object will then contain a **single** \n",
        "User() and all of it's Behaviour() Objects \n",
        "1 User to many Behaviour(s)\n",
        "\n",
        "Note: \n",
        "     id == user[\"id\"] == behaviour[\"user_id\"] \n",
        "\n",
        "All we need user for is:\n",
        "  \"id\"\n",
        "  \"first_name\": \n",
        "  \"last_name\": \n",
        "  \"user_created\"\n",
        "  \"thrivey_score\"\n",
        "\n",
        "What we need from behaviour[] is \n",
        "  \"user_id\"\n",
        "  \"session_id\" \n",
        "  \"user_action\"\n",
        "  \"date_created\"\n",
        "  \"ipv4\"\n",
        "\n",
        "\"\"\"\n",
        "# Assertion: the sub records are equal to each other \n",
        "input_records[0][\"id\"] == input_records[0][\"user\"][\"id\"]\n",
        "\n"
      ],
      "metadata": {
        "id": "X7-RZVnIax4x"
      },
      "execution_count": null,
      "outputs": []
    },
    {
      "cell_type": "code",
      "source": [
        "# Output records is a list of dictionaries ; not json class object perse \n",
        "# Output records is like input_records, a list of dictionaries \n",
        "# Calling final_json output_records \n",
        "output_records = []\n",
        "\n",
        "\"\"\"\n",
        "Iterate over input_records list of dicts and find each occurance in the output,\n",
        " if added already found_record has a value\n",
        "\"\"\"\n",
        "for input_record in input_records:\n",
        "  user_id = input_record[\"id\"]\n",
        "  found_record = None \n",
        "  for output_record in output_records:\n",
        "    if user_id in output_record:\n",
        "      found_record = output_record\n",
        "      break \n",
        "  if found_record is None:\n",
        "    found_record = {user_id: {\"user\": {\n",
        "                                      \"id\": user_id, \n",
        "                                      \"first_name\": input_record[\"user\"][\"first_name\"], \n",
        "                                      \"last_name\": input_record[\"user\"][\"last_name\"], \n",
        "                                      \"user_created\": input_record[\"user\"][\"user_created\"], \n",
        "                                      \"thrivey_score\": input_record[\"user\"][\"thrivey_score\"]\n",
        "                                      }, \n",
        "                              \"behaviour\": [] \n",
        "                              }\n",
        "                    }\n",
        "    output_records.append(found_record)\n",
        "  behaviour = {\n",
        "      \"user_id\": user_id,\n",
        "      \"session_id\": input_record[\"behaviour\"][\"session_id\"], \n",
        "      \"user_action\": input_record[\"behaviour\"][\"user_action\"], \n",
        "      \"date_created\": input_record[\"behaviour\"][\"date_created\"], \n",
        "      \"ipv4\": input_record[\"behaviour\"][\"ipv4\"]    \n",
        "  }\n",
        "  found_record[user_id][\"behaviour\"].append(behaviour)\n",
        "  \n"
      ],
      "metadata": {
        "id": "aus95Fzc9VTu"
      },
      "execution_count": null,
      "outputs": []
    },
    {
      "cell_type": "code",
      "source": [
        "output_records\n",
        "# Strict ordering does not get priority in a dictionary, so how to output like ex?"
      ],
      "metadata": {
        "colab": {
          "base_uri": "https://localhost:8080/"
        },
        "id": "soHgza9N-pGY",
        "outputId": "5a9bfebb-9f77-4d58-dce9-7e2f70b9b524"
      },
      "execution_count": null,
      "outputs": [
        {
          "output_type": "execute_result",
          "data": {
            "text/plain": [
              "[{1: {'behaviour': [{'date_created': 'Oct 17, 2021 5:23 AM',\n",
              "     'ipv4': '172.30.189.226',\n",
              "     'session_id': 3,\n",
              "     'user_action': 'C423',\n",
              "     'user_id': 1},\n",
              "    {'date_created': 'Oct 16, 2021 7:05 PM',\n",
              "     'ipv4': '10.49.192.181',\n",
              "     'session_id': 1,\n",
              "     'user_action': 'E77',\n",
              "     'user_id': 1}],\n",
              "   'user': {'first_name': 'Fawne',\n",
              "    'id': 1,\n",
              "    'last_name': 'MacDowal',\n",
              "    'thrivey_score': 81,\n",
              "    'user_created': 'Sep 14, 2021 4:32 AM'}}}]"
            ]
          },
          "metadata": {},
          "execution_count": 8
        }
      ]
    },
    {
      "cell_type": "code",
      "source": [
        "\"\"\"\n",
        "Generate the Fake data from Faker that will be needed in order to continue \n",
        "if building this out with a template \n",
        "\n",
        "Notes:\n",
        "  Need to iron out getting json from API and manipulating \n",
        "      Does that enforce the ordering seen in example? Dicts won't be ordered perse\n",
        "      What does json.dump(ing) it to a string get as benefit for manipulation ?\n",
        "        (JSON to XML using XML as templating agent ? )\n",
        "  Can make the following fake code more dry... this is conceptual first pass.\n",
        "\"\"\"\n",
        "faker = Faker() # create the object instance of Faker to use it\n",
        "\n",
        "# Create the 150 IP addresses \n",
        "ip_address_list = []\n",
        "counter = 0 \n",
        "\n",
        "while counter < 150: # 150 is the data set response \"batch\" of records \n",
        "  ip_address_list.append(faker.ipv4())\n",
        "  counter += 1\n",
        "print(len(ip_address_list))\n",
        "\n",
        "# Create 10 distinct first names to seed\n",
        "fname_list = []\n",
        "counter = 0 \n",
        "\n",
        "while counter < 10: # 10 is the condensed final \"batch\" of records \n",
        "  fname_list.append(faker.first_name())\n",
        "  counter += 1\n",
        "\n",
        "# Create 10 distinct last names to seed \n",
        "lname_list = []\n",
        "counter = 0\n",
        "\n",
        "while counter < 10:\n",
        "  lname_list.append(faker.last_name())\n",
        "  counter += 1\n",
        "\n",
        "# Create the first_last_name combos for 10 distinct people \n",
        "merged_names = []\n",
        "\n",
        "for idx, value in enumerate(zip(fname_list, lname_list)):\n",
        "  merged_names.append(f\"{fname_list[idx]} {lname_list[idx]}\")\n",
        "\n",
        "print(merged_names)\n",
        "\n",
        "# Our user_created list needs 150 distinct timestamps in the form of \n",
        "#  \"Nov 14, 2021 4:32 AM\"\n",
        "\n",
        "user_created_list = []\n",
        "counter = 0 \n",
        "\n",
        "while counter < 600:\n",
        "  user_created_list.append(f\"{faker.month_name()[0:3]} {faker.day_of_month()}, {faker.year()} {faker.time()} {faker.am_pm()}\")\n",
        "  counter += 1\n",
        "\n",
        "# Thrivey score is \n",
        "\n",
        "thrivey_score_list = []\n",
        "counter = 0\n",
        "while counter < 600: \n",
        "  thrivey_score_list.append(faker.randomize_nb_elements(number=100, le=True))\n",
        "  counter += 1\n"
      ],
      "metadata": {
        "colab": {
          "base_uri": "https://localhost:8080/"
        },
        "id": "MZIHVVsrgnu3",
        "outputId": "83b99071-f760-433c-cd97-821c537492c1"
      },
      "execution_count": null,
      "outputs": [
        {
          "output_type": "stream",
          "name": "stdout",
          "text": [
            "150\n"
          ]
        },
        {
          "output_type": "execute_result",
          "data": {
            "text/plain": [
              "92"
            ]
          },
          "metadata": {},
          "execution_count": 10
        }
      ]
    },
    {
      "cell_type": "code",
      "source": [
        "################################################################################\n",
        "# Tests \n",
        "# -- this looks like pretty printing\n",
        "# -- If had the original 150 data set \n",
        "# -- Assume the 150 would be reduced to 10 users; each with multiple behaviour entries\n",
        "################################################################################\n",
        "\n",
        "if final_json:\n",
        "\tfirst_record = final_json.get(1)\n",
        "\tprint(json.dumps(first_record, indent = 4))\n",
        "\n",
        "\t# Test 1. -- Assert we have 10 UserBehaviour{} objects\n",
        "\tprint(f\"Checking if: {len(final_json)} == 10\")\n",
        "\tassert len(final_json) == 10 "
      ],
      "metadata": {
        "id": "jm99UR0GfDjA"
      },
      "execution_count": null,
      "outputs": []
    }
  ]
}