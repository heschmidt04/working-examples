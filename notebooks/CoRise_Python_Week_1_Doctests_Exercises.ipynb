{
  "nbformat": 4,
  "nbformat_minor": 0,
  "metadata": {
    "colab": {
      "provenance": []
    },
    "kernelspec": {
      "name": "python3",
      "display_name": "Python 3"
    },
    "language_info": {
      "name": "python"
    }
  },
  "cells": [
    {
      "cell_type": "markdown",
      "source": [
        "## Exercise: Functions"
      ],
      "metadata": {
        "id": "-O3FoA4bBWUd"
      }
    },
    {
      "cell_type": "code",
      "execution_count": 1,
      "metadata": {
        "id": "FJvBN2OGAXlC",
        "colab": {
          "base_uri": "https://localhost:8080/"
        },
        "outputId": "d8a428d6-d563-479d-a913-890b7c817454"
      },
      "outputs": [
        {
          "output_type": "stream",
          "name": "stderr",
          "text": [
            "\n",
            "PYDEV DEBUGGER WARNING:\n",
            "sys.settrace() should not be used when the debugger is being used.\n",
            "This may cause the debugger to stop working correctly.\n",
            "If this is needed, please check: \n",
            "http://pydev.blogspot.com/2007/06/why-cant-pydev-debugger-work-with.html\n",
            "to see how to restore the debug tracing back correctly.\n",
            "Call Location:\n",
            "  File \"/usr/lib/python3.8/doctest.py\", line 1487, in run\n",
            "    sys.settrace(save_trace)\n",
            "\n"
          ]
        },
        {
          "output_type": "stream",
          "name": "stdout",
          "text": [
            "Finding tests in calculate_lifetime_supply\n",
            "Trying:\n",
            "    calculate_lifetime_supply(99, 1)\n",
            "Expecting:\n",
            "    365\n",
            "ok\n",
            "Trying:\n",
            "    calculate_lifetime_supply(99, 2)\n",
            "Expecting:\n",
            "    730\n",
            "ok\n",
            "Trying:\n",
            "    calculate_lifetime_supply(36, 3)\n",
            "Expecting:\n",
            "    70080\n",
            "ok\n"
          ]
        }
      ],
      "source": [
        "def calculate_lifetime_supply(current_age, amount_per_day):\n",
        "    \"\"\" Returns the amount of items consumed over a lifetime\n",
        "    (with a max age of 100 assumed) based on the current age\n",
        "    and the amount consumed per day.\n",
        "\n",
        "    >>> calculate_lifetime_supply(99, 1)\n",
        "    365\n",
        "    >>> calculate_lifetime_supply(99, 2)\n",
        "    730\n",
        "    >>> calculate_lifetime_supply(36, 3)\n",
        "    70080\n",
        "    \"\"\"\n",
        "    # YOUR CODE HERE\n",
        "    return (100 - current_age) * (amount_per_day * 365)\n",
        "\n",
        "import doctest\n",
        "doctest.run_docstring_examples(calculate_lifetime_supply, globals(),\n",
        "    verbose=True, name=\"calculate_lifetime_supply\")"
      ]
    },
    {
      "cell_type": "code",
      "source": [
        "import unittest\n",
        "import doctest\n",
        "\n",
        "def load_tests(loader, tests, ignore):\n",
        "    tests.addTests(doctest.DocTestSuite(calculate_lifetime_supply))\n",
        "    return tests\n",
        "\n",
        "# module = \"calculate_lifetime_supply\"\n",
        "# suite = unittest.TestSuite()\n",
        "# suite.addTest(doctest.DocTestSuite(module))"
      ],
      "metadata": {
        "id": "_6OgEMQbCfmW"
      },
      "execution_count": 3,
      "outputs": []
    },
    {
      "cell_type": "code",
      "source": [
        "def calculate_dog_age(human_age):\n",
        "    \"\"\" Returns a dog's age based on a conversion rate of\n",
        "    1 human year to 7 dog years.\n",
        "    >>> calculate_dog_age(1)\n",
        "    7\n",
        "    >>> calculate_dog_age(0.5)\n",
        "    3.5\n",
        "    >>> calculate_dog_age(12)\n",
        "    84\n",
        "    \"\"\"\n",
        "    return human_age * 7\n",
        "\n",
        "import doctest\n",
        "doctest.run_docstring_examples(calculate_dog_age, globals(),\n",
        "    verbose=True, name=\"calculate_dog_age\")"
      ],
      "metadata": {
        "id": "QenZ4TbrAj2j",
        "colab": {
          "base_uri": "https://localhost:8080/"
        },
        "outputId": "6e4416b1-edd6-4e51-8686-a6b1015108c7"
      },
      "execution_count": 4,
      "outputs": [
        {
          "output_type": "stream",
          "name": "stdout",
          "text": [
            "Finding tests in calculate_dog_age\n",
            "Trying:\n",
            "    calculate_dog_age(1)\n",
            "Expecting:\n",
            "    7\n",
            "ok\n",
            "Trying:\n",
            "    calculate_dog_age(0.5)\n",
            "Expecting:\n",
            "    3.5\n",
            "ok\n",
            "Trying:\n",
            "    calculate_dog_age(12)\n",
            "Expecting:\n",
            "    84\n",
            "ok\n"
          ]
        }
      ]
    },
    {
      "cell_type": "code",
      "source": [
        "def tell_fortune(job_title, location, partner):\n",
        "    \"\"\" Returns a fortune of the form:\n",
        "     'You will be a <job_title> in <location> living with <partner>.'\n",
        "\n",
        "    >>> tell_fortune('bball player', 'Spain', 'Sonic the Hedgehog')\n",
        "    'You will be a bball player in Spain living with Sonic the Hedgehog.'\n",
        "    >>> tell_fortune('farmer', 'Kansas', 'C3PO')\n",
        "    'You will be a farmer in Kansas living with C3PO.'\n",
        "    >>> tell_fortune('Elvis Impersonator', 'Russia', 'Karl the Fog')\n",
        "    'You will be a Elvis Impersonator in Russia living with Karl the Fog.'\n",
        "    \"\"\"\n",
        "    # YOUR CODE HERE\n",
        "    return 'You will be a ' + job_title + ' in ' + location + ' living with ' + partner + '.'\n",
        "  \n",
        "import doctest\n",
        "doctest.run_docstring_examples(tell_fortune, globals(),\n",
        "    verbose=True, name=\"tell_fortune\")"
      ],
      "metadata": {
        "id": "Btz857cpAmvM",
        "colab": {
          "base_uri": "https://localhost:8080/"
        },
        "outputId": "7de4a996-3ff5-43ea-987a-07916e5b0ce1"
      },
      "execution_count": 5,
      "outputs": [
        {
          "output_type": "stream",
          "name": "stdout",
          "text": [
            "Finding tests in tell_fortune\n",
            "Trying:\n",
            "    tell_fortune('bball player', 'Spain', 'Sonic the Hedgehog')\n",
            "Expecting:\n",
            "    'You will be a bball player in Spain living with Sonic the Hedgehog.'\n",
            "ok\n",
            "Trying:\n",
            "    tell_fortune('farmer', 'Kansas', 'C3PO')\n",
            "Expecting:\n",
            "    'You will be a farmer in Kansas living with C3PO.'\n",
            "ok\n",
            "Trying:\n",
            "    tell_fortune('Elvis Impersonator', 'Russia', 'Karl the Fog')\n",
            "Expecting:\n",
            "    'You will be a Elvis Impersonator in Russia living with Karl the Fog.'\n",
            "ok\n"
          ]
        }
      ]
    },
    {
      "cell_type": "code",
      "source": [
        "# See https://www.mathsisfun.com/temperature-conversion.html for formulas.\n",
        "\n",
        "def celsius_to_fahrenheit(celsius):  # <- COMPLETE THIS\n",
        "    \"\"\" Returns the Fahrenheit equivalent of the given Celsius temperature.\n",
        "\n",
        "    >>> celsius_to_fahrenheit(0)\n",
        "    32\n",
        "    >>> celsius_to_fahrenheit(100)\n",
        "    212\n",
        "    \"\"\"\n",
        "    return round(((celsius / 5) * 9) + 32)\n",
        "\n",
        "    \n",
        "def fahrenheit_to_celsius(fahrenheit): # <- COMPLETE THIS\n",
        "    \"\"\" Returns the Celsius equivalent of the given Fahrenheit temperature.\n",
        "\n",
        "    >>> fahrenheit_to_celsius(32)\n",
        "    0\n",
        "    >>> fahrenheit_to_celsius(212)\n",
        "    100\n",
        "    \"\"\"\n",
        "    return round(((fahrenheit - 32) * 5) / 9)\n",
        "\n",
        "import doctest\n",
        "doctest.run_docstring_examples(celsius_to_fahrenheit, globals(),\n",
        "    verbose=True, name=\"celsius_to_fahrenheit\")\n",
        "doctest.run_docstring_examples(fahrenheit_to_celsius, globals(),\n",
        "    verbose=True, name=\"fahrenheit_to_celsius\")"
      ],
      "metadata": {
        "id": "zRWiB_CUArpq",
        "colab": {
          "base_uri": "https://localhost:8080/"
        },
        "outputId": "28d06c42-0378-4794-c9c4-d067d6723a2a"
      },
      "execution_count": 6,
      "outputs": [
        {
          "output_type": "stream",
          "name": "stdout",
          "text": [
            "Finding tests in celsius_to_fahrenheit\n",
            "Trying:\n",
            "    celsius_to_fahrenheit(0)\n",
            "Expecting:\n",
            "    32\n",
            "ok\n",
            "Trying:\n",
            "    celsius_to_fahrenheit(100)\n",
            "Expecting:\n",
            "    212\n",
            "ok\n",
            "Finding tests in fahrenheit_to_celsius\n",
            "Trying:\n",
            "    fahrenheit_to_celsius(32)\n",
            "Expecting:\n",
            "    0\n",
            "ok\n",
            "Trying:\n",
            "    fahrenheit_to_celsius(212)\n",
            "Expecting:\n",
            "    100\n",
            "ok\n"
          ]
        }
      ]
    },
    {
      "cell_type": "markdown",
      "source": [
        "# Exercise: Logical expressions"
      ],
      "metadata": {
        "id": "L4F6DWKEBddh"
      }
    },
    {
      "cell_type": "code",
      "source": [
        "def has_curly_hair(father_allele, mother_allele):\n",
        "  \"\"\"Returns true only if both the father allele and mother allele are \"C\".\n",
        "\n",
        "  >>> has_curly_hair(\"C\", \"c\")\n",
        "  False\n",
        "  >>> has_curly_hair(\"c\", \"C\")\n",
        "  False\n",
        "  >>> has_curly_hair(\"s\", \"s\")\n",
        "  False\n",
        "  >>> has_curly_hair(\"C\", \"C\")\n",
        "  True\n",
        "  \"\"\"\n",
        "  return father_allele == \"C\" and mother_allele == \"C\"\n",
        "\n",
        "\n",
        "import doctest\n",
        "doctest.run_docstring_examples(has_curly_hair, globals(),\n",
        "   verbose=True, name=\"has_curly_hair\")"
      ],
      "metadata": {
        "id": "6JXKZXLIBhSd",
        "colab": {
          "base_uri": "https://localhost:8080/"
        },
        "outputId": "1b66d828-2ee6-4f72-b237-b5dc684af75b"
      },
      "execution_count": 7,
      "outputs": [
        {
          "output_type": "stream",
          "name": "stdout",
          "text": [
            "Finding tests in has_curly_hair\n",
            "Trying:\n",
            "    has_curly_hair(\"C\", \"c\")\n",
            "Expecting:\n",
            "    False\n",
            "ok\n",
            "Trying:\n",
            "    has_curly_hair(\"c\", \"C\")\n",
            "Expecting:\n",
            "    False\n",
            "ok\n",
            "Trying:\n",
            "    has_curly_hair(\"s\", \"s\")\n",
            "Expecting:\n",
            "    False\n",
            "ok\n",
            "Trying:\n",
            "    has_curly_hair(\"C\", \"C\")\n",
            "Expecting:\n",
            "    True\n",
            "ok\n"
          ]
        }
      ]
    },
    {
      "cell_type": "code",
      "source": [
        "def can_be_president(age, residency):\n",
        "    \"\"\"\n",
        "    Returns whether someone can be US president based on age and residency.\n",
        "    According to the US constitution, a presidential candidate must be at least \n",
        "    35 years old and have been a US resident for at least 14 years. \n",
        "\n",
        "    >>> can_be_president(30, 10)\n",
        "    False\n",
        "    >>> can_be_president(36, 10)\n",
        "    False\n",
        "    >>> can_be_president(30, 16)\n",
        "    False\n",
        "    >>> can_be_president(36, 15)\n",
        "    True\n",
        "    >>> can_be_president(36, 14)\n",
        "    True\n",
        "    >>> can_be_president(35, 14)\n",
        "    True\n",
        "    >>> can_be_president(35, 30)\n",
        "    True\n",
        "    \"\"\"\n",
        "    return age >= 35 and residency >= 14\n",
        "\n",
        "\n",
        "import doctest\n",
        "doctest.run_docstring_examples(can_be_president, globals(),\n",
        "    verbose=True, name=\"can_be_president\")"
      ],
      "metadata": {
        "id": "aDOPcdrNBlBt",
        "colab": {
          "base_uri": "https://localhost:8080/"
        },
        "outputId": "26006e04-871c-41fb-c69b-0dd7f150ef58"
      },
      "execution_count": 8,
      "outputs": [
        {
          "output_type": "stream",
          "name": "stdout",
          "text": [
            "Finding tests in can_be_president\n",
            "Trying:\n",
            "    can_be_president(30, 10)\n",
            "Expecting:\n",
            "    False\n",
            "ok\n",
            "Trying:\n",
            "    can_be_president(36, 10)\n",
            "Expecting:\n",
            "    False\n",
            "ok\n",
            "Trying:\n",
            "    can_be_president(30, 16)\n",
            "Expecting:\n",
            "    False\n",
            "ok\n",
            "Trying:\n",
            "    can_be_president(36, 15)\n",
            "Expecting:\n",
            "    True\n",
            "ok\n",
            "Trying:\n",
            "    can_be_president(36, 14)\n",
            "Expecting:\n",
            "    True\n",
            "ok\n",
            "Trying:\n",
            "    can_be_president(35, 14)\n",
            "Expecting:\n",
            "    True\n",
            "ok\n",
            "Trying:\n",
            "    can_be_president(35, 30)\n",
            "Expecting:\n",
            "    True\n",
            "ok\n"
          ]
        }
      ]
    },
    {
      "cell_type": "code",
      "source": [
        "def is_safe_to_eat(seafood_type, days_frozen):\n",
        "    \"\"\" Returns true if the seafood is safe to eat: \n",
        "    either the type is \"mollusk\" or it's been frozen for at least 7 days.\n",
        "\n",
        "    >>> is_safe_to_eat(\"tuna\", 3)\n",
        "    False\n",
        "    >>> is_safe_to_eat(\"salmon\", 6)\n",
        "    False\n",
        "    >>> is_safe_to_eat(\"salmon\", 7)\n",
        "    True\n",
        "    >>> is_safe_to_eat(\"mollusk\", 1)\n",
        "    True\n",
        "    >>> is_safe_to_eat(\"mollusk\", 9)\n",
        "    True\n",
        "    \"\"\"\n",
        "    return seafood_type == \"mollusk\" or days_frozen >= 7\n",
        "\n",
        "\n",
        "import doctest\n",
        "doctest.run_docstring_examples(is_safe_to_eat, globals(),\n",
        "    verbose=True, name=\"is_safe_to_eat\")"
      ],
      "metadata": {
        "id": "0_Pq9y_pBo1R",
        "colab": {
          "base_uri": "https://localhost:8080/"
        },
        "outputId": "3c98ba80-880b-4cce-903f-ec4df8fb25f5"
      },
      "execution_count": 9,
      "outputs": [
        {
          "output_type": "stream",
          "name": "stdout",
          "text": [
            "Finding tests in is_safe_to_eat\n",
            "Trying:\n",
            "    is_safe_to_eat(\"tuna\", 3)\n",
            "Expecting:\n",
            "    False\n",
            "ok\n",
            "Trying:\n",
            "    is_safe_to_eat(\"salmon\", 6)\n",
            "Expecting:\n",
            "    False\n",
            "ok\n",
            "Trying:\n",
            "    is_safe_to_eat(\"salmon\", 7)\n",
            "Expecting:\n",
            "    True\n",
            "ok\n",
            "Trying:\n",
            "    is_safe_to_eat(\"mollusk\", 1)\n",
            "Expecting:\n",
            "    True\n",
            "ok\n",
            "Trying:\n",
            "    is_safe_to_eat(\"mollusk\", 9)\n",
            "Expecting:\n",
            "    True\n",
            "ok\n"
          ]
        }
      ]
    },
    {
      "cell_type": "code",
      "source": [
        "def harvest_time(month, tuber_size):\n",
        "    \"\"\" Returns true if it's time to harvest root vegetables:\n",
        "    either the month is July or the size of the tuber is at least 2 feet.\n",
        "    >>> harvest_time(\"May\", 1)\n",
        "    False\n",
        "    >>> harvest_time(\"May\", 2)\n",
        "    True\n",
        "    >>> harvest_time(\"May\", 3)\n",
        "    True\n",
        "    >>> harvest_time(\"July\", 1)\n",
        "    True\n",
        "    >>> harvest_time(\"July\", 2)\n",
        "    True\n",
        "    >>> harvest_time(\"July\", 4)\n",
        "    True\n",
        "    \"\"\"\n",
        "    return month == \"July\" or tuber_size >= 2\n",
        "\n",
        "import doctest\n",
        "doctest.run_docstring_examples(harvest_time, globals(),\n",
        "    verbose=True, name=\"harvest_time\")"
      ],
      "metadata": {
        "id": "nhKu2EozBswU",
        "colab": {
          "base_uri": "https://localhost:8080/"
        },
        "outputId": "f4581cba-8a56-43aa-cf97-c1b2e294c438"
      },
      "execution_count": 10,
      "outputs": [
        {
          "output_type": "stream",
          "name": "stdout",
          "text": [
            "Finding tests in harvest_time\n",
            "Trying:\n",
            "    harvest_time(\"May\", 1)\n",
            "Expecting:\n",
            "    False\n",
            "ok\n",
            "Trying:\n",
            "    harvest_time(\"May\", 2)\n",
            "Expecting:\n",
            "    True\n",
            "ok\n",
            "Trying:\n",
            "    harvest_time(\"May\", 3)\n",
            "Expecting:\n",
            "    True\n",
            "ok\n",
            "Trying:\n",
            "    harvest_time(\"July\", 1)\n",
            "Expecting:\n",
            "    True\n",
            "ok\n",
            "Trying:\n",
            "    harvest_time(\"July\", 2)\n",
            "Expecting:\n",
            "    True\n",
            "ok\n",
            "Trying:\n",
            "    harvest_time(\"July\", 4)\n",
            "Expecting:\n",
            "    True\n",
            "ok\n"
          ]
        }
      ]
    },
    {
      "cell_type": "markdown",
      "source": [
        "## Exercise: Conditionals"
      ],
      "metadata": {
        "id": "gxGJOnQzCBaV"
      }
    },
    {
      "cell_type": "code",
      "source": [
        "def lesser_num(num1, num2):\n",
        "    \"\"\" Returns whichever number is lowest of the two supplied numbers.\n",
        "\n",
        "    >>> lesser_num(45, 10)\n",
        "    10\n",
        "    >>> lesser_num(-1, 30)\n",
        "    -1\n",
        "    >>> lesser_num(20, 20)\n",
        "    20\n",
        "    \"\"\"\n",
        "    if num1 < num2:\n",
        "      return num1\n",
        "    else:\n",
        "      return num2\n",
        "\n",
        "import doctest\n",
        "doctest.run_docstring_examples(lesser_num, globals(),\n",
        "    verbose=True, name=\"lesser_num\")"
      ],
      "metadata": {
        "id": "BBmDexGYCCpj",
        "colab": {
          "base_uri": "https://localhost:8080/"
        },
        "outputId": "cb7ca2f5-011b-4e84-b829-7cf793398978"
      },
      "execution_count": 11,
      "outputs": [
        {
          "output_type": "stream",
          "name": "stdout",
          "text": [
            "Finding tests in lesser_num\n",
            "Trying:\n",
            "    lesser_num(45, 10)\n",
            "Expecting:\n",
            "    10\n",
            "ok\n",
            "Trying:\n",
            "    lesser_num(-1, 30)\n",
            "Expecting:\n",
            "    -1\n",
            "ok\n",
            "Trying:\n",
            "    lesser_num(20, 20)\n",
            "Expecting:\n",
            "    20\n",
            "ok\n"
          ]
        }
      ]
    },
    {
      "cell_type": "code",
      "source": [
        "def hello_world(language_code):\n",
        "    \"\"\" Returns the translation of \"Hello, World\" into the language\n",
        "    specified by the language code (e.g. \"es\", \"pt\", \"en\"),\n",
        "    defaulting to English if an unknown language code is specified.\n",
        "    >>> hello_world(\"en\")\n",
        "    'Hello, World'\n",
        "    >>> hello_world(\"es\")\n",
        "    'Hola, Mundo'\n",
        "    >>> hello_world(\"pt\")\n",
        "    'Olá, Mundo'\n",
        "    \"\"\"\n",
        "    if language_code == \"es\":\n",
        "      return \"Hola, Mundo\"\n",
        "    elif language_code == \"pt\":\n",
        "      return \"Olá, Mundo\"\n",
        "    return \"Hello, World\"\n",
        "\n",
        "import doctest\n",
        "doctest.run_docstring_examples(hello_world, globals(),\n",
        "    verbose=True, name=\"hello_world\")"
      ],
      "metadata": {
        "id": "Pox0zxP7CI9m",
        "colab": {
          "base_uri": "https://localhost:8080/"
        },
        "outputId": "202a6d3a-067a-4061-d7a4-101ea10ffbf0"
      },
      "execution_count": 12,
      "outputs": [
        {
          "output_type": "stream",
          "name": "stdout",
          "text": [
            "Finding tests in hello_world\n",
            "Trying:\n",
            "    hello_world(\"en\")\n",
            "Expecting:\n",
            "    'Hello, World'\n",
            "ok\n",
            "Trying:\n",
            "    hello_world(\"es\")\n",
            "Expecting:\n",
            "    'Hola, Mundo'\n",
            "ok\n",
            "Trying:\n",
            "    hello_world(\"pt\")\n",
            "Expecting:\n",
            "    'Olá, Mundo'\n",
            "ok\n"
          ]
        }
      ]
    },
    {
      "cell_type": "code",
      "source": [
        "def assign_grade(score):\n",
        "    \"\"\" Returns a letter grade for the numeric score based on the grade bins of:\n",
        "     \"A\" (90-100), \"B\" (80-89), \"C\" (70-79), \"D\" (65-69), or \"F\" (0-64)\n",
        "\n",
        "    >>> assign_grade(95)\n",
        "    'A'\n",
        "    >>> assign_grade(90)\n",
        "    'A'\n",
        "    >>> assign_grade(85)\n",
        "    'B'\n",
        "    >>> assign_grade(80)\n",
        "    'B'\n",
        "    >>> assign_grade(77)\n",
        "    'C'\n",
        "    >>> assign_grade(70)\n",
        "    'C'\n",
        "    >>> assign_grade(68)\n",
        "    'D'\n",
        "    >>> assign_grade(65)\n",
        "    'D'\n",
        "    >>> assign_grade(64)\n",
        "    'F'\n",
        "    >>> assign_grade(0)\n",
        "    'F'\n",
        "    \"\"\"\n",
        "    if score >= 90:\n",
        "      return \"A\"\n",
        "    elif score >= 80:\n",
        "      return \"B\"\n",
        "    elif score >= 70:\n",
        "      return \"C\"\n",
        "    elif score >= 65:\n",
        "      return \"D\"\n",
        "    else:\n",
        "      return \"F\"\n",
        "\n",
        "import doctest\n",
        "doctest.run_docstring_examples(assign_grade, globals(),\n",
        "    verbose=True, name=\"assign_grade\")"
      ],
      "metadata": {
        "id": "UtLZI4ARCMIk",
        "colab": {
          "base_uri": "https://localhost:8080/"
        },
        "outputId": "54dd1bc1-83a7-43b1-8cfd-402e151cea0a"
      },
      "execution_count": 13,
      "outputs": [
        {
          "output_type": "stream",
          "name": "stdout",
          "text": [
            "Finding tests in assign_grade\n",
            "Trying:\n",
            "    assign_grade(95)\n",
            "Expecting:\n",
            "    'A'\n",
            "ok\n",
            "Trying:\n",
            "    assign_grade(90)\n",
            "Expecting:\n",
            "    'A'\n",
            "ok\n",
            "Trying:\n",
            "    assign_grade(85)\n",
            "Expecting:\n",
            "    'B'\n",
            "ok\n",
            "Trying:\n",
            "    assign_grade(80)\n",
            "Expecting:\n",
            "    'B'\n",
            "ok\n",
            "Trying:\n",
            "    assign_grade(77)\n",
            "Expecting:\n",
            "    'C'\n",
            "ok\n",
            "Trying:\n",
            "    assign_grade(70)\n",
            "Expecting:\n",
            "    'C'\n",
            "ok\n",
            "Trying:\n",
            "    assign_grade(68)\n",
            "Expecting:\n",
            "    'D'\n",
            "ok\n",
            "Trying:\n",
            "    assign_grade(65)\n",
            "Expecting:\n",
            "    'D'\n",
            "ok\n",
            "Trying:\n",
            "    assign_grade(64)\n",
            "Expecting:\n",
            "    'F'\n",
            "ok\n",
            "Trying:\n",
            "    assign_grade(0)\n",
            "Expecting:\n",
            "    'F'\n",
            "ok\n"
          ]
        }
      ]
    }
  ]
}