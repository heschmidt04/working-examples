{
  "nbformat": 4,
  "nbformat_minor": 0,
  "metadata": {
    "colab": {
      "provenance": []
    },
    "kernelspec": {
      "name": "python3",
      "display_name": "Python 3"
    },
    "language_info": {
      "name": "python"
    }
  },
  "cells": [
    {
      "cell_type": "markdown",
      "source": [
        "# Looking at the HTTPS Log files \n",
        "* Split the data on carriage return line feed \\r\\n\\r for ~2k of lines \n",
        "\n",
        "\n",
        "# GDI notes for the algorithm \n",
        "\n",
        "*  You are a Site Reliability Engineer, and you have a giant pile of logs to look through.\n",
        "*  We need to know what the most frequent error is,\n",
        "* and what kinds of errors there are, \n",
        "* and under what HTTP response code they will fall\n",
        "\n",
        "\n",
        "# Future thoughts\n",
        "* Now that I have an understanding of generators the idea of using yield to walk through each line instead of materializing the data would be the next step in making this more efficient with %%timeit or pyflame \n",
        "\n",
        "\n"
      ],
      "metadata": {
        "id": "kHoIAezNbUs7"
      }
    },
    {
      "cell_type": "code",
      "source": [
        "# Looking at data\n",
        "# Reviewed the 4.6 K of lines - narrowed down to 2k of lines and punctuation with 1st split\n",
        "raw_logs = \"\"\"\n",
        "[WARNING] 403 Forbidden: No token in request parameters\n",
        "[ERROR] 500 Server Error: int is not subscriptable\n",
        "[INFO] 200 OK: Login Successful\n",
        "[INFO] 200 OK: User sent a message\n",
        "[ERROR] 500 Server Error: int is not subscriptable\n",
        "[WARNING] 403 Forbidden: No token in request parameters\n",
        "[ERROR] 500 Server Error: int is not subscriptable\n",
        "[INFO] 200 OK: Login Successful\n",
        "[ERROR] 500 Server Error: int is not subscriptable\n",
        "[ERROR] 500 Server Error: int is not subscriptable\n",
        "[INFO] 200 OK: User sent a message\n",
        "[ERROR] 500 Server Error: int is not subscriptable\n",
        "[WARNING] 403 Forbidden: No token in request parameters\n",
        "[INFO] 200 OK: Login Successful\n",
        "[INFO] 200 OK: User sent a message\n",
        "[INFO] 200 OK: Login Successful\n",
        "[INFO] 200 OK: User sent a message\n",
        "[INFO] 200 OK: Login Successful\n",
        "[INFO] 200 OK: User sent a message\n",
        "[ERROR] 500 Server Error: int is not subscriptable\n",
        "[INFO] 200 OK: Login Successful\n",
        "[INFO] 200 OK: User sent a message\n",
        "[ERROR] 500 Server Error: int is not subscriptable\n",
        "\"\"\"\n",
        "\n",
        "output = {\n",
        "\t'WARNING': {\n",
        "\t\t'403': {\n",
        "\t\t\t'Forbidden': {\n",
        "\t\t\t\t'No token in request parameters': 3\n",
        "\t\t\t}\n",
        "\t\t}\n",
        "\t},\n",
        "\t'ERROR': {\n",
        "\t\t'500': {\n",
        "\t\t\t'Server Error': {\n",
        "\t\t\t\t'int is not subscriptable': 8\n",
        "\t\t\t}\n",
        "\t\t}\n",
        "\t},\n",
        "\t'INFO': {\n",
        "\t\t'200': {\n",
        "\t\t\t'OK': {\n",
        "\t\t\t\t'Login Successful': 6,\n",
        "\t\t\t\t'User sent a message': 6\n",
        "\t\t\t}\n",
        "\t\t}\n",
        "\t}\n",
        "}\n",
        "\n",
        "## \n",
        "# {'[ERROR]': {'500': {'Server Error': {' int is not subscriptable': 8}}},\n",
        "# '[INFO]': {'200': {'OK': {' Login Successful': 6, ' User sent a message': 6}}},\n",
        "#  '[WARNING]': {'403': {'Forbidden': {' No token in request parameters': 3}}}}"
      ],
      "metadata": {
        "id": "p-CFaCAYU5yj"
      },
      "execution_count": null,
      "outputs": []
    },
    {
      "cell_type": "code",
      "source": [
        "import pprint\n",
        "pp = pprint.pprint \n",
        "pp(raw_logs)"
      ],
      "metadata": {
        "colab": {
          "base_uri": "https://localhost:8080/"
        },
        "id": "GckX190tCoCE",
        "outputId": "8415bd4d-c558-4e05-ad6b-d500256a1220"
      },
      "execution_count": null,
      "outputs": [
        {
          "output_type": "stream",
          "name": "stdout",
          "text": [
            "('\\n'\n",
            " '[WARNING] 403 Forbidden: No token in request parameters\\n'\n",
            " '[ERROR] 500 Server Error: int is not subscriptable\\n'\n",
            " '[INFO] 200 OK: Login Successful\\n'\n",
            " '[INFO] 200 OK: User sent a message\\n'\n",
            " '[ERROR] 500 Server Error: int is not subscriptable\\n'\n",
            " '[WARNING] 403 Forbidden: No token in request parameters\\n'\n",
            " '[ERROR] 500 Server Error: int is not subscriptable\\n'\n",
            " '[INFO] 200 OK: Login Successful\\n'\n",
            " '[ERROR] 500 Server Error: int is not subscriptable\\n'\n",
            " '[ERROR] 500 Server Error: int is not subscriptable\\n'\n",
            " '[INFO] 200 OK: User sent a message\\n'\n",
            " '[ERROR] 500 Server Error: int is not subscriptable\\n'\n",
            " '[WARNING] 403 Forbidden: No token in request parameters\\n'\n",
            " '[INFO] 200 OK: Login Successful\\n'\n",
            " '[INFO] 200 OK: User sent a message\\n'\n",
            " '[INFO] 200 OK: Login Successful\\n'\n",
            " '[INFO] 200 OK: User sent a message\\n'\n",
            " '[INFO] 200 OK: Login Successful\\n'\n",
            " '[INFO] 200 OK: User sent a message\\n'\n",
            " '[ERROR] 500 Server Error: int is not subscriptable\\n'\n",
            " '[INFO] 200 OK: Login Successful\\n'\n",
            " '[INFO] 200 OK: User sent a message\\n'\n",
            " '[ERROR] 500 Server Error: int is not subscriptable\\n')\n"
          ]
        }
      ]
    },
    {
      "cell_type": "code",
      "source": [
        "raw_logs.split(\"\\n\")"
      ],
      "metadata": {
        "colab": {
          "base_uri": "https://localhost:8080/"
        },
        "id": "ov1prg8pJIgw",
        "outputId": "ca50e787-b6e4-4e40-a6fa-5d0e28a3c214"
      },
      "execution_count": null,
      "outputs": [
        {
          "output_type": "execute_result",
          "data": {
            "text/plain": [
              "['',\n",
              " '[WARNING] 403 Forbidden: No token in request parameters',\n",
              " '[ERROR] 500 Server Error: int is not subscriptable',\n",
              " '[INFO] 200 OK: Login Successful',\n",
              " '[INFO] 200 OK: User sent a message',\n",
              " '[ERROR] 500 Server Error: int is not subscriptable',\n",
              " '[WARNING] 403 Forbidden: No token in request parameters',\n",
              " '[ERROR] 500 Server Error: int is not subscriptable',\n",
              " '[INFO] 200 OK: Login Successful',\n",
              " '[ERROR] 500 Server Error: int is not subscriptable',\n",
              " '[ERROR] 500 Server Error: int is not subscriptable',\n",
              " '[INFO] 200 OK: User sent a message',\n",
              " '[ERROR] 500 Server Error: int is not subscriptable',\n",
              " '[WARNING] 403 Forbidden: No token in request parameters',\n",
              " '[INFO] 200 OK: Login Successful',\n",
              " '[INFO] 200 OK: User sent a message',\n",
              " '[INFO] 200 OK: Login Successful',\n",
              " '[INFO] 200 OK: User sent a message',\n",
              " '[INFO] 200 OK: Login Successful',\n",
              " '[INFO] 200 OK: User sent a message',\n",
              " '[ERROR] 500 Server Error: int is not subscriptable',\n",
              " '[INFO] 200 OK: Login Successful',\n",
              " '[INFO] 200 OK: User sent a message',\n",
              " '[ERROR] 500 Server Error: int is not subscriptable',\n",
              " '']"
            ]
          },
          "metadata": {},
          "execution_count": 3
        }
      ]
    },
    {
      "cell_type": "code",
      "source": [
        "def analyze_logs(logs):\n",
        "\t\"\"\"\n",
        "\tYou are a Site Reliability Engineer, and you have a giant pile of logs to look through.\n",
        "\tWe need to know\n",
        "\t\twhat the most frequent error is,\n",
        "\t\tand what kinds of errors there are,\n",
        "\t\tand under what HTTP response code they will fall\n",
        "\n",
        "\tanalyze_logs function takes logs as a string,\n",
        "\t then parses through the lines to see the frequency of occurance of:\n",
        "\t\tLog_level (error, info, warning)\n",
        "\t\tHTTP status_code (200, 400) etc.\n",
        "\t\tHTTP status_message (ok, server error, forbidden)\n",
        "\t\tHTTP message body (human readable information message)\n",
        "\n",
        "\t:param logs:\n",
        "\t:return: dictionary with logging statistics\n",
        "\n",
        "\tFormattted output example: using pretty print to return it nicer\n",
        "\n",
        "\toutput = {\n",
        "\t'WARNING': {\n",
        "\t\t'403': {\n",
        "\t\t\t'Forbidden': {\n",
        "\t\t\t\t'No token in request parameters': 3\n",
        "\t\t\t\t\t\t}\n",
        "\t\t\t\t}\n",
        "\t\t\t}\n",
        "\t\t}\n",
        "\n",
        "    >>> raw_logs = \"\n",
        "      [WARNING] 403 Forbidden: No token in request parameters\n",
        "      [ERROR] 500 Server Error: int is not subscriptable\n",
        "      [INFO] 200 OK: Login Successful\n",
        "      [INFO] 200 OK: User sent a message\n",
        "      [ERROR] 500 Server Error: int is not subscriptable\n",
        "      [WARNING] 403 Forbidden: No token in request parameters\n",
        "      [ERROR] 500 Server Error: int is not subscriptable\n",
        "      [INFO] 200 OK: Login Successful\n",
        "      [ERROR] 500 Server Error: int is not subscriptable\n",
        "      [ERROR] 500 Server Error: int is not subscriptable\n",
        "      [INFO] 200 OK: User sent a message\n",
        "      [ERROR] 500 Server Error: int is not subscriptable\n",
        "      [WARNING] 403 Forbidden: No token in request parameters\n",
        "      [INFO] 200 OK: Login Successful\n",
        "      [INFO] 200 OK: User sent a message\n",
        "      [INFO] 200 OK: Login Successful\n",
        "      [INFO] 200 OK: User sent a message\n",
        "    \"\n",
        "    >>> analyze_logs(raw_logs)\n",
        "    {'ERROR': {'500': {'Server Error': {'int is not subscriptable': 8}}},\n",
        "    'INFO': {'200': {'OK': {'Login Successful': 6, 'User sent a message': 6}}},\n",
        "    'WARNING': {'403': {'Forbidden': {'No token in request parameters': 3}}}}\n",
        "\n",
        "\t\"\"\"\n",
        "\t## Make the output human readable - mostly\n",
        "\timport pprint\n",
        "\tpp = pprint.pprint\n",
        "\n",
        "\t## Define the output dictionary\n",
        "\toutput = {}\n",
        "\n",
        "\t## Parse through the string and split on new lines\n",
        "\tfor line in raw_logs.split(\"\\n\"):\n",
        "\t\t## if blank then skip it\n",
        "\t\tif not line:\n",
        "\t\t\tcontinue\n",
        "\t\t## looking for the following pieces to split out\n",
        "\t\t\t## log level (info, warn, error)\n",
        "\t\t\t## http response (200, 500, 403, etc)\n",
        "\t\t\t## message (everrything after the : )\n",
        "\t\t## split the line on colon\n",
        "\t\tcolon_split = line.split(\":\")\n",
        "\t\t## colon_split is now in 2 pieces --> word_split 0 and 1\n",
        "\t\tword_split = colon_split[0].split(sep=\" \", maxsplit=2)\n",
        "\t\tlog_level = word_split[0].strip('[|]')\n",
        "\t\tstatus_code = word_split[1]\n",
        "\t\tstatus_message = word_split[2]\n",
        "\t\tmessage_count = colon_split[1].lstrip()\n",
        "\n",
        "\t\t## Instead of trying to slice a list\n",
        "\t\t## use the dictionary to get set dictionary keys within the main dictionary\n",
        "\t\tif log_level not in output.keys():\n",
        "\t\t\t## Looking for the existence of a key - set the log level dictionary\n",
        "\t\t\toutput[log_level] = {}\n",
        "\t\t## Looking for the existence of each part of the dictionaries within the dictionary\n",
        "\t\tif status_code not in output[log_level].keys():\n",
        "\t\t\toutput[log_level][status_code] = {}\n",
        "\t\tif status_message not in output[log_level][status_code].keys():\n",
        "\t\t\toutput[log_level][status_code][status_message] = {}\n",
        "\t\tif message_count not in output[log_level][status_code][status_message].keys():\n",
        "\t\t\t# This is the COUNTER for how many times this message occurs in the log files\n",
        "\t\t\toutput[log_level][status_code][status_message][message_count] = 0\n",
        "\t\t# Increment the counter\n",
        "\t\toutput[log_level][status_code][status_message][message_count] += 1\n",
        "\n",
        "\treturn(pp(output))\n",
        "\n",
        "\n",
        "analyze_logs(raw_logs)"
      ],
      "metadata": {
        "colab": {
          "base_uri": "https://localhost:8080/"
        },
        "id": "qblgJI4XKpkq",
        "outputId": "15331f1f-3491-424f-f9cf-626254855362"
      },
      "execution_count": null,
      "outputs": [
        {
          "output_type": "stream",
          "name": "stdout",
          "text": [
            "{'ERROR': {'500': {'Server Error': {'int is not subscriptable': 8}}},\n",
            " 'INFO': {'200': {'OK': {'Login Successful': 6, 'User sent a message': 6}}},\n",
            " 'WARNING': {'403': {'Forbidden': {'No token in request parameters': 3}}}}\n"
          ]
        }
      ]
    },
    {
      "cell_type": "code",
      "source": [
        "# Run the tests when you think analyze_logs is working\n",
        "# May have to use a file with the raw log info inside it. \n",
        "import doctest\n",
        "doctest.run_docstring_examples(analyze_logs, globals(), verbose=True, name=\"analyze_logs\")"
      ],
      "metadata": {
        "id": "BUlVuNmLiOWj",
        "colab": {
          "base_uri": "https://localhost:8080/"
        },
        "outputId": "64eb9538-d698-472a-b998-e70f98fd3c2e"
      },
      "execution_count": null,
      "outputs": [
        {
          "output_type": "stream",
          "name": "stdout",
          "text": [
            "Finding tests in analyze_logs\n",
            "Trying:\n",
            "    raw_logs = \"\n",
            "Expecting:\n",
            "      [WARNING] 403 Forbidden: No token in request parameters\n",
            "      [ERROR] 500 Server Error: int is not subscriptable\n",
            "      [INFO] 200 OK: Login Successful\n",
            "      [INFO] 200 OK: User sent a message\n",
            "      [ERROR] 500 Server Error: int is not subscriptable\n",
            "      [WARNING] 403 Forbidden: No token in request parameters\n",
            "      [ERROR] 500 Server Error: int is not subscriptable\n",
            "      [INFO] 200 OK: Login Successful\n",
            "      [ERROR] 500 Server Error: int is not subscriptable\n",
            "      [ERROR] 500 Server Error: int is not subscriptable\n",
            "      [INFO] 200 OK: User sent a message\n",
            "      [ERROR] 500 Server Error: int is not subscriptable\n",
            "      [WARNING] 403 Forbidden: No token in request parameters\n",
            "      [INFO] 200 OK: Login Successful\n",
            "      [INFO] 200 OK: User sent a message\n",
            "      [INFO] 200 OK: Login Successful\n",
            "      [INFO] 200 OK: User sent a message\n",
            "    \"\n",
            "**********************************************************************\n",
            "File \"__main__\", line 31, in analyze_logs\n",
            "Failed example:\n",
            "    raw_logs = \"\n",
            "Exception raised:\n",
            "    Traceback (most recent call last):\n",
            "      File \"/usr/lib/python3.7/doctest.py\", line 1337, in __run\n",
            "        compileflags, 1), test.globs)\n",
            "      File \"<doctest analyze_logs[0]>\", line 1\n",
            "        raw_logs = \"\n",
            "                   ^\n",
            "    SyntaxError: EOL while scanning string literal\n",
            "Trying:\n",
            "    analyze_logs(raw_logs)\n",
            "Expecting:\n",
            "    {'ERROR': {'500': {'Server Error': {'int is not subscriptable': 8}}},\n",
            "    'INFO': {'200': {'OK': {'Login Successful': 6, 'User sent a message': 6}}},\n",
            "    'WARNING': {'403': {'Forbidden': {'No token in request parameters': 3}}}}\n",
            "**********************************************************************\n",
            "File \"__main__\", line 50, in analyze_logs\n",
            "Failed example:\n",
            "    analyze_logs(raw_logs)\n",
            "Expected:\n",
            "    {'ERROR': {'500': {'Server Error': {'int is not subscriptable': 8}}},\n",
            "    'INFO': {'200': {'OK': {'Login Successful': 6, 'User sent a message': 6}}},\n",
            "    'WARNING': {'403': {'Forbidden': {'No token in request parameters': 3}}}}\n",
            "Got:\n",
            "    {'ERROR': {'500': {'Server Error': {'int is not subscriptable': 8}}},\n",
            "     'INFO': {'200': {'OK': {'Login Successful': 6, 'User sent a message': 6}}},\n",
            "     'WARNING': {'403': {'Forbidden': {'No token in request parameters': 3}}}}\n"
          ]
        }
      ]
    }
  ]
}